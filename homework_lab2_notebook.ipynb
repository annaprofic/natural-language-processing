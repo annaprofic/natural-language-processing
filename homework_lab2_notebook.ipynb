{
 "cells": [
  {
   "cell_type": "markdown",
   "metadata": {
    "colab_type": "text",
    "id": "view-in-github"
   },
   "source": [
    "[View in Colaboratory](https://colab.research.google.com/github/gmum/natural-language-processing-classes/blob/master/lab-2-preprocessing/notebook.ipynb)"
   ]
  },
  {
   "cell_type": "markdown",
   "metadata": {
    "colab_type": "text",
    "id": "RPP549L7OSGK"
   },
   "source": [
    "# Lecture 2 - Text preprocessing"
   ]
  },
  {
   "cell_type": "markdown",
   "metadata": {
    "colab_type": "text",
    "id": "wPq6nNVXRFos"
   },
   "source": [
    "## Example of preprocessing\n",
    "\n",
    "(from [article](https://www.kdnuggets.com/2017/12/general-approach-preprocessing-text-data.html) by Matthew Mayo)\n",
    "\n",
    "Beyond the standard Python libraries, we are also using the following:\n",
    "\n",
    "- [NLTK](http://www.nltk.org/) - The Natural Language ToolKit is one of the best-known and most-used NLP libraries in the Python ecosystem, useful for all sorts of tasks from tokenization, to stemming, to part of speech tagging, and beyond\n",
    "- [BeautifulSoup](https://www.crummy.com/software/BeautifulSoup/bs4/doc/) - BeautifulSoup is a useful library for extracting data from HTML and XML documents\n",
    "- [Inflect](https://pypi.org/project/inflect/) - This is a simple library for accomplishing the natural language related tasks of generating plurals, singular nouns, ordinals, and indefinite articles, and converting numbers to words"
   ]
  },
  {
   "cell_type": "code",
   "execution_count": 2,
   "metadata": {
    "colab": {
     "base_uri": "https://localhost:8080/",
     "height": 336
    },
    "colab_type": "code",
    "id": "gpOQNWkoM83V",
    "outputId": "635d0d68-c269-4844-e59d-e7b4a90d973b"
   },
   "outputs": [
    {
     "name": "stderr",
     "output_type": "stream",
     "text": [
      "[nltk_data] Downloading package punkt to /Users/ania/nltk_data...\n",
      "[nltk_data]   Package punkt is already up-to-date!\n",
      "[nltk_data] Downloading package stopwords to /Users/ania/nltk_data...\n",
      "[nltk_data]   Package stopwords is already up-to-date!\n",
      "[nltk_data] Downloading package wordnet to /Users/ania/nltk_data...\n",
      "[nltk_data]   Package wordnet is already up-to-date!\n",
      "[nltk_data] Downloading package gutenberg to /Users/ania/nltk_data...\n",
      "[nltk_data]   Package gutenberg is already up-to-date!\n",
      "[nltk_data] Downloading package averaged_perceptron_tagger to\n",
      "[nltk_data]     /Users/ania/nltk_data...\n",
      "[nltk_data]   Package averaged_perceptron_tagger is already up-to-\n",
      "[nltk_data]       date!\n"
     ]
    },
    {
     "name": "stdout",
     "output_type": "stream",
     "text": [
      "Requirement already satisfied: inflect in /Users/ania/miniconda3/lib/python3.8/site-packages (4.1.0)\r\n"
     ]
    }
   ],
   "source": [
    "import re, string, unicodedata\n",
    "import nltk\n",
    "nltk.download('punkt')\n",
    "nltk.download('stopwords')\n",
    "nltk.download('wordnet')\n",
    "nltk.download('gutenberg')\n",
    "nltk.download('averaged_perceptron_tagger')\n",
    "from bs4 import BeautifulSoup\n",
    "from nltk.tokenize import word_tokenize, sent_tokenize, TweetTokenizer\n",
    "from nltk.corpus import stopwords\n",
    "from nltk.stem import LancasterStemmer, PorterStemmer,WordNetLemmatizer\n",
    "!pip install inflect\n",
    "import inflect"
   ]
  },
  {
   "cell_type": "markdown",
   "metadata": {
    "colab_type": "text",
    "id": "rolai6rhTXkI"
   },
   "source": [
    "We need some sample text. We'll start with something very small and artificial in order to easily see the results of what we are doing step by step."
   ]
  },
  {
   "cell_type": "code",
   "execution_count": 3,
   "metadata": {
    "colab": {},
    "colab_type": "code",
    "id": "mETl7nIUPEIn"
   },
   "outputs": [],
   "source": [
    "sample = \"\"\"<h1>Title Goes Here</h1>\n",
    "\n",
    "<b>Bolded Text</b>\n",
    "<i>Italicized Text</i>\n",
    "\n",
    "<img src=\"this should all be gone\"/>\n",
    "\n",
    "<a href=\"this will be gone, too\">But this will still be here!</a>\n",
    "\n",
    "I run. He ran. She is running. Will they stop running?\n",
    "\n",
    "I talked. She was talking. They talked to them about running. Who ran to the talking runner?\n",
    "\n",
    "[Some text we don't want to keep is in here]\n",
    "\n",
    "¡Sebastián, Nicolás, Alejandro and Jéronimo are going to the store tomorrow morning!\n",
    "\n",
    "something... is! wrong() with.,; this :: sentence.\n",
    "\n",
    "I can't do this anymore. I didn't know them. Why couldn't you have dinner at the restaurant?\n",
    "\n",
    "My favorite movie franchises, in order: Indiana Jones; Marvel Cinematic Universe; Star Wars; Back to the Future; Harry Potter.\n",
    "\n",
    "Don't do it.... Just don't. Billy! I know what you're doing. This is a great little house you've got here.\n",
    "\n",
    "[This is some other unwanted text]\n",
    "\n",
    "John: \"Well, well, well.\"\n",
    "James: \"There, there. There, there.\"\n",
    "\n",
    "&nbsp;&nbsp;\n",
    "\n",
    "There are a lot of reasons not to do this. There are 101 reasons not to do it. 1000000 reasons, actually.\n",
    "I have to go get 2 tutus from 2 different stores, too.\n",
    "\n",
    "22    45   1067   445\n",
    "\n",
    "{{Here is some stuff inside of double curly braces.}}\n",
    "{Here is more stuff in single curly braces.}\n",
    "\n",
    "[DELETE]\n",
    "\n",
    "</body>\n",
    "</html>\"\"\""
   ]
  },
  {
   "cell_type": "markdown",
   "metadata": {
    "colab_type": "text",
    "id": "JIq4ucjJTZOm"
   },
   "source": [
    "A toy dataset indeed, but make no mistake; the steps we are taking here to preprocessing this data are fully transferable.\n",
    "\n",
    "The text data preprocessing framework:\n",
    "\n",
    "![](https://www.kdnuggets.com/wp-content/uploads/text-preprocessing-framework-2.png)\n",
    "\n"
   ]
  },
  {
   "cell_type": "markdown",
   "metadata": {
    "colab_type": "text",
    "id": "I_PQ5VcpUULr"
   },
   "source": [
    "### Noise Removal\n",
    "\n",
    "Let's loosely define noise removal as text-specific normalization tasks which often take place prior to tokenization. Some would argue that, while the other 2 major steps of the preprocessing framework (tokenization and normalization) are basically task-independent, noise removal is much more task-specific.\n",
    "\n",
    "Sample noise removal tasks could include:\n",
    "\n",
    "- removing text file headers, footers\n",
    "- removing HTML, XML, etc. markup and metadata\n",
    "- extracting valuable data from other formats, such as JSON\n",
    "\n",
    "As you can imagine, the boundary between noise removal and data collection and assembly, on the one hand, is a fuzzy one, while the line between noise removal and normalization is blurred on the other. Given its close relationship with specific texts and their collection and assembly, many denoising tasks, such as parsing a JSON structure, would obviously need to be implemented prior to tokenization.\n",
    "\n",
    "In our data preprocessing pipeline, we will strip away HTML markup with the help of the BeautifulSoup library, and use regular expressions to remove open and close double brackets and anything in between them (we assume this is necessary based on our sample text)."
   ]
  },
  {
   "cell_type": "code",
   "execution_count": 5,
   "metadata": {
    "colab": {},
    "colab_type": "code",
    "id": "bLEWD4nzRfTJ"
   },
   "outputs": [
    {
     "name": "stdout",
     "output_type": "stream",
     "text": [
      "Title Goes Here\n",
      "Bolded Text\n",
      "Italicized Text\n",
      "\n",
      "But this will still be here!\n",
      "\n",
      "I run. He ran. She is running. Will they stop running?\n",
      "\n",
      "I talked. She was talking. They talked to them about running. Who ran to the talking runner?\n",
      "\n",
      "\n",
      "\n",
      "¡Sebastián, Nicolás, Alejandro and Jéronimo are going to the store tomorrow morning!\n",
      "\n",
      "something... is! wrong() with.,; this :: sentence.\n",
      "\n",
      "I can't do this anymore. I didn't know them. Why couldn't you have dinner at the restaurant?\n",
      "\n",
      "My favorite movie franchises, in order: Indiana Jones; Marvel Cinematic Universe; Star Wars; Back to the Future; Harry Potter.\n",
      "\n",
      "Don't do it.... Just don't. Billy! I know what you're doing. This is a great little house you've got here.\n",
      "\n",
      "\n",
      "\n",
      "John: \"Well, well, well.\"\n",
      "James: \"There, there. There, there.\"\n",
      "\n",
      "  \n",
      "\n",
      "There are a lot of reasons not to do this. There are 101 reasons not to do it. 1000000 reasons, actually.\n",
      "I have to go get 2 tutus from 2 different stores, too.\n",
      "\n",
      "22    45   1067   445\n",
      "\n",
      "{{Here is some stuff inside of double curly braces.}}\n",
      "{Here is more stuff in single curly braces.}\n",
      "\n",
      "\n",
      "\n",
      "\n",
      "\n"
     ]
    }
   ],
   "source": [
    "def strip_html(text):\n",
    "    soup = BeautifulSoup(text, \"html.parser\")\n",
    "    return soup.get_text()\n",
    "\n",
    "def remove_between_square_brackets(text):\n",
    "    return re.sub(r'\\[[^]]*\\]', '', text)\n",
    "\n",
    "def denoise_text(text):\n",
    "    text = strip_html(text)\n",
    "    text = remove_between_square_brackets(text)\n",
    "    return text\n",
    "\n",
    "sample = denoise_text(sample)\n",
    "print(sample)"
   ]
  },
  {
   "cell_type": "markdown",
   "metadata": {
    "colab_type": "text",
    "id": "KJFXqjZmUvg3"
   },
   "source": [
    "### Tokenization\n",
    "\n",
    "Tokenization is a step which splits longer strings of text into smaller pieces, or tokens. Larger chunks of text can be tokenized into sentences, sentences can be tokenized into words, etc. Further processing is generally performed after a piece of text has been appropriately tokenized. Tokenization is also referred to as text segmentation or lexical analysis. Sometimes segmentation is used to refer to the breakdown of a large chunk of text into pieces larger than words (e.g. paragraphs or sentences), while tokenization is reserved for the breakdown process which results exclusively in words.\n",
    "\n",
    "For our task, we will tokenize our sample text into a list of words. This is done using NTLK's word_tokenize() function.\n",
    "\n"
   ]
  },
  {
   "cell_type": "code",
   "execution_count": 6,
   "metadata": {
    "colab": {},
    "colab_type": "code",
    "id": "XwaEnLwYUSzn"
   },
   "outputs": [
    {
     "name": "stdout",
     "output_type": "stream",
     "text": [
      "['Title', 'Goes', 'Here', 'Bolded', 'Text', 'Italicized', 'Text', 'But', 'this', 'will', 'still', 'be', 'here', '!', 'I', 'run', '.', 'He', 'ran', '.', 'She', 'is', 'running', '.', 'Will', 'they', 'stop', 'running', '?', 'I', 'talked', '.', 'She', 'was', 'talking', '.', 'They', 'talked', 'to', 'them', 'about', 'running', '.', 'Who', 'ran', 'to', 'the', 'talking', 'runner', '?', '¡Sebastián', ',', 'Nicolás', ',', 'Alejandro', 'and', 'Jéronimo', 'are', 'going', 'to', 'the', 'store', 'tomorrow', 'morning', '!', 'something', '...', 'is', '!', 'wrong', '(', ')', 'with.', ',', ';', 'this', ':', ':', 'sentence', '.', 'I', 'ca', \"n't\", 'do', 'this', 'anymore', '.', 'I', 'did', \"n't\", 'know', 'them', '.', 'Why', 'could', \"n't\", 'you', 'have', 'dinner', 'at', 'the', 'restaurant', '?', 'My', 'favorite', 'movie', 'franchises', ',', 'in', 'order', ':', 'Indiana', 'Jones', ';', 'Marvel', 'Cinematic', 'Universe', ';', 'Star', 'Wars', ';', 'Back', 'to', 'the', 'Future', ';', 'Harry', 'Potter', '.', 'Do', \"n't\", 'do', 'it', '....', 'Just', 'do', \"n't\", '.', 'Billy', '!', 'I', 'know', 'what', 'you', \"'re\", 'doing', '.', 'This', 'is', 'a', 'great', 'little', 'house', 'you', \"'ve\", 'got', 'here', '.', 'John', ':', '``', 'Well', ',', 'well', ',', 'well', '.', \"''\", 'James', ':', '``', 'There', ',', 'there', '.', 'There', ',', 'there', '.', \"''\", 'There', 'are', 'a', 'lot', 'of', 'reasons', 'not', 'to', 'do', 'this', '.', 'There', 'are', '101', 'reasons', 'not', 'to', 'do', 'it', '.', '1000000', 'reasons', ',', 'actually', '.', 'I', 'have', 'to', 'go', 'get', '2', 'tutus', 'from', '2', 'different', 'stores', ',', 'too', '.', '22', '45', '1067', '445', '{', '{', 'Here', 'is', 'some', 'stuff', 'inside', 'of', 'double', 'curly', 'braces', '.', '}', '}', '{', 'Here', 'is', 'more', 'stuff', 'in', 'single', 'curly', 'braces', '.', '}']\n"
     ]
    }
   ],
   "source": [
    "words = nltk.word_tokenize(sample)\n",
    "print(words)"
   ]
  },
  {
   "cell_type": "markdown",
   "metadata": {
    "colab_type": "text",
    "id": "AxP_Pd7rWhtM"
   },
   "source": [
    "### Normalization\n",
    " \n",
    "Normalization generally refers to a series of related tasks meant to put all text on a level playing field: converting all text to the same case (upper or lower), removing punctuation, converting numbers to their word equivalents, and so on. Normalization puts all words on equal footing, and allows processing to proceed uniformly.\n",
    "\n",
    "Normalizing text can mean performing a number of tasks, but for our framework we will approach normalization in 3 distinct steps: \n",
    "- stemming, \n",
    "- lemmatization,\n",
    "- everything else. \n",
    "\n",
    "For specifics on what these distinct steps may be, [see this post](https://www.kdnuggets.com/2017/12/general-approach-preprocessing-text-data.html).\n",
    "\n",
    "Remember, after tokenization, we are no longer working at a text level, but now at a word level. Our normalization functions, shown below, reflect this. Function names and comments should provide the necessary insight into what each does."
   ]
  },
  {
   "cell_type": "code",
   "execution_count": 98,
   "metadata": {
    "colab": {},
    "colab_type": "code",
    "id": "FAtYfNqoWOLd"
   },
   "outputs": [
    {
     "name": "stdout",
     "output_type": "stream",
     "text": [
      "['children', 'ilu vatar', 'elves', 'men', 'firstborn', 'followers', 'amid', 'splendours', 'world', 'vast', 'halls', 'spaces', 'wheeling', 'fires', 'ilu vatar', 'chose', 'place', 'habitation', 'deeps', 'time', 'midst', 'innumerable', 'stars', 'habitation', 'might', 'seem', 'little', 'thing', 'consider', 'majesty', 'ainur', 'terrible', 'sharpness', 'take', 'whole', 'field', 'arda', 'foundation', 'pillar', 'raise', 'cone', 'summit', 'bitter', 'needle', 'consider', 'immeasurable', 'vastness', 'world', 'still', 'ainur', 'shaping', 'minute', 'precision', 'shape', 'things', 'therein', 'ainur', 'beheld', 'habitation', 'vision', 'seen', 'children', 'ilu vatar', 'arise', 'therein', 'many', 'mighty', 'among', 'bent', 'thought', 'desire', 'towards', 'place', 'melkor', 'chief', 'even', 'beginning', 'greatest', 'ainur', 'took', 'part', 'music', 'feigned', 'even', 'first', 'desired', 'go', 'thither', 'order', 'things', 'good', 'children', 'ilu vatar', 'controlling', 'turmoils', 'heat', 'cold', 'come', 'pass', 'desired', 'rather', 'subdue', 'elves', 'men', 'envying', 'gifts', 'ilu vatar', 'promised', 'endow', 'wished', 'subjects', 'servants', 'called', 'lord', 'master', 'wills', 'ainur', 'looked', 'upon', 'habitation', 'set', 'within', 'vast', 'spaces', 'world', 'elves', 'call', 'arda', 'earth', 'hearts', 'rejoiced', 'light', 'eyes', 'beholding', 'many', 'colours', 'filled', 'gladness', 'roaring', 'sea', 'felt', 'great', 'unquiet', 'observed', 'winds', 'air', 'matters', 'arda', 'made', 'iron', 'stone', 'silver', 'gold', 'many', 'substances', 'water', 'greatly', 'praised', 'said', 'eldar', 'water', 'lives', 'yet', 'echo', 'music', 'ainur', 'substance', 'else', 'earth', 'many', 'children', 'ilu vatar', 'hearken', 'still', 'unsated', 'voices', 'sea', 'yet', 'know', 'listen', 'water', 'ainu', 'elves', 'call', 'ulmo', 'turned', 'thought', 'deeply', 'instructed', 'ilu vatar', 'music', 'airs', 'winds', 'manwe ', 'pondered', 'noblest', 'ainur', 'fabric', 'earth', 'aule ', 'thought', 'ilu vatar', 'given', 'skill', 'knowledge', 'scare', 'less', 'melkor', 'delight', 'pride', 'aule ', 'deed', 'making', 'thing', 'made', 'neither', 'possession', 'mastery', 'wherefore', 'gives', 'hoards', 'free', 'care', 'passing', 'ever', 'new', 'work', 'ilu vatar', 'spoke', 'ulmo', 'said', 'seest', 'thou', 'little', 'realm', 'deeps', 'time', 'melkor', 'hath', 'made', 'war', 'upon', 'thy', 'province', 'hath', 'bethought', 'bitter', 'cold', 'immoderate', 'yet', 'hath', 'destroyed', 'beauty', 'thy', 'fountains', 'thy', 'clear', 'pools', 'behold', 'snow', 'cunning', 'work', 'frost', 'melkor', 'hath', 'devised', 'heats', 'fire', 'without', 'restraint', 'hath', 'dried', 'thy', 'desire', 'utterly', 'quelled', 'music', 'sea', 'behold', 'rather', 'height', 'glory', 'clouds', 'everchanging', 'mists', 'listen', 'fall', 'rain', 'upon', 'earth', 'clouds', 'thou', 'art', 'drawn', 'nearer', 'manwe ', 'thy', 'friend', 'thou', 'lovest', 'ulmo', 'answered', 'truly', 'water', 'become', 'fairer', 'heart', 'imagined', 'neither', 'secret', 'thought', 'conceived', 'snowflake', 'music', 'contained', 'falling', 'rain', 'seek', 'manwe ', 'may', 'make', 'melodies', 'ever', 'thy', 'delight', 'manwe ', 'ulmo', 'beginning', 'allied', 'things', 'served', 'faithfully', 'purpose', 'ilu vatar', 'even', 'ulmo', 'spoke', 'ainur', 'yet', 'gazing', 'upon', 'vision', 'taken', 'away', 'hidden', 'sight', 'seemed', 'moment', 'perceived', 'new', 'thing', 'darkness', 'known', 'except', 'thought', 'become', 'enamoured', 'beauty', 'vision', 'engrossed', 'unfolding', 'world', 'came', 'minds', 'filled', 'history', 'incomplete', 'circles', 'time', 'fullwrought', 'vision', 'taken', 'away', 'said', 'vision', 'ceased', 'ere', 'fulfilment', 'dominion', 'men', 'fading', 'firstborn', 'wherefore', 'though', 'music', 'valar', 'seen', 'sight', 'later', 'ages', 'ending', 'world', 'unrest', 'among', 'ainur', 'ilu vatar', 'called', 'said', 'know', 'desire', 'minds', 'ye', 'seen', 'verily', 'thought', 'even', 'ye', 'yet', 'therefore', 'say', 'ea ', 'let', 'things', 'send', 'forth', 'void', 'flame', 'imperishable', 'shall', 'heart', 'world', 'world', 'shall', 'may', 'go', 'suddenly', 'ainur', 'saw', 'afar', 'light', 'cloud', 'living', 'heart', 'flame', 'knew', 'vision', 'ilu vatar', 'made', 'new', 'thing', 'ea ', 'world']\n"
     ]
    }
   ],
   "source": [
    "def remove_non_ascii(words):\n",
    "    \"\"\"Remove non-ASCII characters from list of tokenized words\"\"\"\n",
    "    new_words = []\n",
    "    for word in words:\n",
    "        new_word = unicodedata.normalize('NFKD', word).encode('ascii', 'ignore').decode('utf-8', 'ignore')\n",
    "        new_words.append(new_word)\n",
    "    return new_words\n",
    "\n",
    "def to_lowercase(words):\n",
    "    \"\"\"Convert all characters to lowercase from list of tokenized words\"\"\"\n",
    "    new_words = []\n",
    "    for word in words:\n",
    "        new_word = word.lower()\n",
    "        new_words.append(new_word)\n",
    "    return new_words\n",
    "\n",
    "def remove_punctuation(words):\n",
    "    \"\"\"Remove punctuation from list of tokenized words\"\"\"\n",
    "    new_words = []\n",
    "    for word in words:\n",
    "        new_word = re.sub(r'[^\\w\\s]', '', word)\n",
    "        if new_word != '':\n",
    "            new_words.append(new_word)\n",
    "    return new_words\n",
    "\n",
    "def replace_numbers(words):\n",
    "    \"\"\"Replace all interger occurrences in list of tokenized words with textual representation\"\"\"\n",
    "    p = inflect.engine()\n",
    "    new_words = []\n",
    "    for word in words:\n",
    "        if word.isdigit():\n",
    "            new_word = p.number_to_words(word)\n",
    "            new_words.append(new_word)\n",
    "        else:\n",
    "            new_words.append(word)\n",
    "    return new_words\n",
    "\n",
    "def remove_stopwords(words):\n",
    "    \"\"\"Remove stop words from list of tokenized words\"\"\"\n",
    "    new_words = []\n",
    "    for word in words:\n",
    "        if word not in stopwords.words('english'):\n",
    "            new_words.append(word)\n",
    "    return new_words\n",
    "\n",
    "def stem_words(words):\n",
    "    \"\"\"Stem words in list of tokenized words\"\"\"\n",
    "    stemmer = LancasterStemmer()\n",
    "    stems = []\n",
    "    for word in words:\n",
    "        stem = stemmer.stem(word)\n",
    "        stems.append(stem)\n",
    "    return stems\n",
    "\n",
    "def lemmatize_verbs(words):\n",
    "    \"\"\"Lemmatize list of tokenized words as verbs\"\"\"\n",
    "    lemmatizer = WordNetLemmatizer()\n",
    "    lemmas = []\n",
    "    for word in words:\n",
    "        lemma = lemmatizer.lemmatize(word, pos='v')\n",
    "        lemmas.append(lemma)\n",
    "    return lemmas\n",
    "\n",
    "def normalize(words):\n",
    "    words = remove_non_ascii(words)\n",
    "    words = to_lowercase(words)\n",
    "    words = remove_punctuation(words)\n",
    "    words = replace_numbers(words)\n",
    "    words = remove_stopwords(words)\n",
    "    return words\n",
    "\n",
    "words = normalize(words)\n",
    "print(words)"
   ]
  },
  {
   "cell_type": "markdown",
   "metadata": {
    "colab_type": "text",
    "id": "PUrEKj91ZaPb"
   },
   "source": [
    "Calling the stemming and lemming functions are done as below:"
   ]
  },
  {
   "cell_type": "code",
   "execution_count": 0,
   "metadata": {
    "colab": {},
    "colab_type": "code",
    "id": "CINpnkB4YwHY"
   },
   "outputs": [],
   "source": [
    "def stem_and_lemmatize(words):\n",
    "    stems = stem_words(words)\n",
    "    lemmas = lemmatize_verbs(words)\n",
    "    return stems, lemmas\n",
    "\n",
    "stems, lemmas = stem_and_lemmatize(words)\n",
    "print('Stemmed:\\n', stems)\n",
    "print('\\nLemmatized:\\n', lemmas)"
   ]
  },
  {
   "cell_type": "markdown",
   "metadata": {
    "colab_type": "text",
    "id": "JnJWHosGZ7Fe"
   },
   "source": [
    "Depending on your NLP task or preference, one of these may be more appropriate than the other. See here for a [discussion on lemmatization vs stemming](https://blog.bitext.com/what-is-the-difference-between-stemming-and-lemmatization/)."
   ]
  },
  {
   "cell_type": "markdown",
   "metadata": {
    "colab_type": "text",
    "id": "gW6rm0134_E-"
   },
   "source": [
    "In order to resolve ambiguous cases, lemmatization usually requires tokens to be accompanied by part-of-speech tags. For example, the word lemma for rose depends on whether it is used as a noun or a verb:"
   ]
  },
  {
   "cell_type": "code",
   "execution_count": 0,
   "metadata": {
    "colab": {},
    "colab_type": "code",
    "id": "UnsGwUpg5JDa"
   },
   "outputs": [],
   "source": [
    "lemmer = WordNetLemmatizer()\n",
    "print(f\"noun lemmatization: {lemmer.lemmatize('rose', 'n')}\")\n",
    "print(f\"verb lemmatization: {lemmer.lemmatize('rose', 'v')}\")"
   ]
  },
  {
   "cell_type": "markdown",
   "metadata": {
    "colab_type": "text",
    "id": "YUXQmKLG5h_g"
   },
   "source": [
    "## Exercise 1."
   ]
  },
  {
   "cell_type": "code",
   "execution_count": 3,
   "metadata": {
    "colab": {},
    "colab_type": "code",
    "id": "q9CtaF3zZcRR"
   },
   "outputs": [],
   "source": [
    "text_1 = \"\"\"Now the Children of Ilu´vatar are Elves and Men, the Firstborn\n",
    "and the Followers. And amid all the splendours of the\n",
    "World, its vast halls and spaces, and its wheeling fires, Ilu´vatar\n",
    "chose a place for their habitation in the Deeps of Time\n",
    "and in the midst of the innumerable stars. And this habitation\n",
    "might seem a little thing to those who consider only the\n",
    "majesty of the Ainur, and not their terrible sharpness; as who\n",
    "should take the whole field of Arda for the foundation of a\n",
    "pillar and so raise it until the cone of its summit were more\n",
    "bitter than a needle; or who consider only the immeasurable\n",
    "vastness of the World, which still the Ainur are shaping, and\n",
    "not the minute precision to which they shape all things\n",
    "therein. But when the Ainur had beheld this habitation in a\n",
    "vision and had seen the Children of Ilu´vatar arise therein,\n",
    "then many of the most mighty among them bent all their\n",
    "thought and their desire towards that place. And of these\n",
    "Melkor was the chief, even as he was in the beginning the\n",
    "greatest of the Ainur who took part in the Music. And he\n",
    "feigned, even to himself at first, that he desired to go thither\n",
    "and order all things for the good of the Children of Ilu´vatar,\n",
    "controlling the turmoils of the heat and the cold that had\n",
    "come to pass through him. But he desired rather to subdue\n",
    "to his will both Elves and Men, envying the gifts with which\n",
    "Ilu´vatar promised to endow them; and he wished himself to\n",
    "have subjects and servants, and to be called Lord, and to be\n",
    "a master over other wills.\n",
    "But the other Ainur looked upon this habitation set within\n",
    "the vast spaces of the World, which the Elves call Arda,\n",
    "the Earth; and their hearts rejoiced in light, and their eyes\n",
    "beholding many colours were filled with gladness; but\n",
    "because of the roaring of the sea they felt a great unquiet.\n",
    "And they observed the winds and the air, and the matters of\n",
    "which Arda was made, of iron and stone and silver and gold\n",
    "and many substances: but of all these water they most greatly\n",
    "praised. And it is said by the Eldar that in water there lives\n",
    "yet the echo of the Music of the Ainur more than in any\n",
    "substance else that is in this Earth; and many of the Children\n",
    "of Ilu´vatar hearken still unsated to the voices of the Sea, and\n",
    "yet know not for what they listen.\n",
    "Now to water had that Ainu whom the Elves call Ulmo\n",
    "turned his thought, and of all most deeply was he instructed\n",
    "by Ilu´vatar in music. But of the airs and winds Manwe¨ most\n",
    "had pondered, who is the noblest of the Ainur. Of the fabric\n",
    "of Earth had Aule¨ thought, to whom Ilu´vatar had given skill\n",
    "and knowledge scare less than to Melkor; but the delight and\n",
    "pride of Aule¨ is in the deed of making, and in the thing made,\n",
    "and neither in possession nor in his own mastery; wherefore\n",
    "he gives and hoards not, and is free from care, passing ever\n",
    "on to some new work.\n",
    "And Ilu´vatar spoke to Ulmo, and said: ‘Seest thou not how\n",
    "here in this little realm in the Deeps of Time Melkor hath\n",
    "made war upon thy province? He hath bethought him of\n",
    "bitter cold immoderate, and yet hath not destroyed the beauty\n",
    "of thy fountains, nor of thy clear pools. Behold the snow,\n",
    "and the cunning work of frost! Melkor hath devised heats\n",
    "and fire without restraint, and hath not dried up thy desire\n",
    "nor utterly quelled the music of the sea. Behold rather the\n",
    "height and glory of the clouds, and the everchanging mists;\n",
    "and listen to the fall of rain upon the Earth! And in these\n",
    "clouds thou art drawn nearer to Manwe¨, thy friend, whom\n",
    "thou lovest.’\n",
    "Then Ulmo answered: ‘Truly, Water is become now fairer\n",
    "than my heart imagined, neither had my secret thought conceived\n",
    "the snowflake, nor in all my music was contained the\n",
    "falling of the rain. I will seek Manwe¨, that he and I may make\n",
    "melodies for ever to thy delight!’ And Manwe¨ and Ulmo have\n",
    "from the beginning been allied, and in all things have served\n",
    "most faithfully the purpose of Ilu´vatar.\n",
    "But even as Ulmo spoke, and while the Ainur were yet\n",
    "gazing upon this vision, it was taken away and hidden from\n",
    "their sight; and it seemed to them that in that moment they\n",
    "perceived a new thing, Darkness, which they had not known\n",
    "before except in thought. But they had become enamoured\n",
    "of the beauty of the vision and engrossed in the unfolding\n",
    "of the World which came there to being, and their minds\n",
    "were filled with it; for the history was incomplete and the\n",
    "circles of time not full-wrought when the vision was taken\n",
    "away. And some have said that the vision ceased ere the\n",
    "fulfilment of the Dominion of Men and the fading of the\n",
    "Firstborn; wherefore, though the Music is over all, the Valar\n",
    "have not seen as with sight the Later Ages or the ending of\n",
    "the World.\n",
    "Then there was unrest among the Ainur; but Ilu´vatar called\n",
    "to them, and said: ‘I know the desire of your minds that what\n",
    "ye have seen should verily be, not only in your thought, but\n",
    "even as ye yourselves are, and yet other. Therefore I say: Ea¨!\n",
    "Let these things Be! And I will send forth into the Void the\n",
    "Flame Imperishable, and it shall be at the heart of the World,\n",
    "and the World shall Be; and those of you that will may go\n",
    "down into it.’ And suddenly the Ainur saw afar off a light,\n",
    "as it were a cloud with a living heart of flame; and they knew\n",
    "that this was no vision only, but that Ilu´vatar had made a\n",
    "new thing: Ea¨, the World that Is.\"\"\".replace(\"\\n\", \" \")"
   ]
  },
  {
   "cell_type": "markdown",
   "metadata": {
    "colab_type": "text",
    "id": "Tb2vn6GldyWo"
   },
   "source": [
    "\n",
    "\n",
    "1. Make a vocabulary that for each token contains the number of its occurencies in above text. Store the vocabulary as a list of tuples. Sort this vocabulary by the number of occurences, from biggest to smallest. Return the second most popular word from the dictionary. Use word_tokenize from nltk.\n",
    "\n",
    "2. Repeat this process, but this time also convert all tokens to lowercase and lemmatize all tokens as verbs.\n",
    "\n",
    "3. Use sentence tokenizer (nltk.sent_tokenize) to find the longest sentence (with respect to number of characters) in the text and return the number of words in this sentence (excluding punctuation!)\n",
    "\n",
    "4. Read about [different tokenizers](https://www.nltk.org/api/nltk.tokenize.html) from NLTK. Give example of sentence, that would be tokenized better by TweetTokenizer().tokenize() and a sentence that would be better after word_tokenize().\n"
   ]
  },
  {
   "cell_type": "code",
   "execution_count": 29,
   "metadata": {
    "colab": {},
    "colab_type": "code",
    "id": "57F0W2O4jzZh"
   },
   "outputs": [],
   "source": [
    "def create_vocab_1(words): \n",
    "    vocab = []\n",
    "    for word in set(words): \n",
    "        count = words.count(word)\n",
    "        vocab.append((word, count))\n",
    "    return sorted(vocab, key=lambda x: x[1], reverse=True)\n",
    "\n",
    "def second_most_popular(vocab):\n",
    "    return vocab[1][0]\n",
    "\n",
    "def create_vocab_2(words):\n",
    "    vocab = []\n",
    "    lemmatizer = WordNetLemmatizer() \n",
    "    for word in words: \n",
    "        word = word.lower()\n",
    "        word = lemmatizer.lemmatize(word, pos='v')\n",
    "        count = words.count(word)\n",
    "        vocab.append((word, count))\n",
    "    return set(sorted(vocab, key=lambda x: x[1], reverse=True))\n",
    "\n",
    "\n",
    "def num_tokens(text):\n",
    "    sentences = [t for t in sent_tokenize(text)]\n",
    "    longest_sent = max(sentences, key=len)\n",
    "    num_of_word = 0\n",
    "    for word in word_tokenize(longest_sent): \n",
    "        new_word = re.sub(r'[^\\w\\s]', '', word)\n",
    "        if new_word != '':\n",
    "            num_of_word += 1\n",
    "    return num_of_word"
   ]
  },
  {
   "cell_type": "code",
   "execution_count": 30,
   "metadata": {
    "colab": {},
    "colab_type": "code",
    "id": "jT6qOuLnj0LL"
   },
   "outputs": [
    {
     "name": "stdout",
     "output_type": "stream",
     "text": [
      "['Hey', ':)', 'this', 'is', 'the', '#first', 'sentence', 'B', ')', ';)'] <- better option\n",
      "['Hey', ':', ')', 'this', 'is', 'the', '#', 'first', 'sentence', 'B', ')', ';', ')']\n",
      "['Choose', 'the', 'correct', 'option', ':', '#', 'first', '#', 'second', '#', 'third', '.'] <- better option\n",
      "['Choose', 'the', 'correct', 'option', ':', '#first', '#second', '#third', '.']\n",
      "and\n",
      "and\n"
     ]
    }
   ],
   "source": [
    "words = nltk.word_tokenize(text_1)\n",
    "# 1\n",
    "vocab_1 = create_vocab_1(words)\n",
    "second_most_popular_1 = second_most_popular(vocab_1)\n",
    "# 2\n",
    "vocab_2 = create_vocab_2(words)\n",
    "second_most_popular_2 = second_most_popular(list(vocab_1))\n",
    "\n",
    "# 3\n",
    "num_tokens = num_tokens(text_1)\n",
    "\n",
    "#4\n",
    "sentence = \"Hey:) this is the #first sentence B) ;) \"\n",
    "tknz = TweetTokenizer()\n",
    "print(tknz.tokenize(sentence), '<- better option')\n",
    "print(word_tokenize(sentence))\n",
    "\n",
    "sentence = \"Choose the correct option: #first #second #third. \"\n",
    "print(word_tokenize(sentence), '<- better option')\n",
    "print(tknz.tokenize(sentence))\n",
    "\n",
    "assert len(vocab_1) == 379\n",
    "assert len(vocab_2) == 336\n",
    "assert num_tokens == 82\n",
    "print(second_most_popular_1)\n",
    "print(second_most_popular_2)"
   ]
  },
  {
   "cell_type": "markdown",
   "metadata": {
    "colab_type": "text",
    "id": "tY477m0kxvqD"
   },
   "source": [
    "## Exercise 2.\n",
    "\n"
   ]
  },
  {
   "cell_type": "code",
   "execution_count": 54,
   "metadata": {
    "colab": {},
    "colab_type": "code",
    "id": "Z77h33bpkxJu"
   },
   "outputs": [],
   "source": [
    "# You can download texts using NLTK :)\n",
    "\n",
    "raw = nltk.corpus.gutenberg.raw(\"burgess-busterbrown.txt\")\n",
    "# print(raw[:500])\n",
    "words = nltk.corpus.gutenberg.words(\"burgess-busterbrown.txt\")\n",
    "# print(words[:20])\n",
    "sents = nltk.corpus.gutenberg.sents(\"burgess-busterbrown.txt\")\n",
    "# print(sents[:5])"
   ]
  },
  {
   "cell_type": "markdown",
   "metadata": {
    "colab_type": "text",
    "id": "PthHXjgcvqa5"
   },
   "source": [
    "Using \"burgess-busterbrown.txt\", do the following:\n",
    "\n",
    "1. Count the number of sentences containing word \"the\" (case insensitive)\n",
    "2. Compute the average token length in the above corpus.\n",
    "3. (Stemming) Read about [Porter](http://snowball.tartarus.org/algorithms/english/stemmer.html) and [Lancaster](https://www.nltk.org/_modules/nltk/stem/lancaster.html) stemmers and (after lowercasing the tokens) find words from above file that have different stemmer outputs.\n",
    "4. (Lemmatization) Perform lemmatization on above corpus. Use POS tagger (defined below) to write a lemmatizer that uses a specific POS tag for each word. Give an example of sentences (from corpus) where using lemmatizer with POS tags is working better than lemmatize_verbs(), that assumes that each word is a verb."
   ]
  },
  {
   "cell_type": "code",
   "execution_count": 75,
   "metadata": {
    "colab": {},
    "colab_type": "code",
    "id": "9ViiHVVHwClI"
   },
   "outputs": [
    {
     "name": "stdout",
     "output_type": "stream",
     "text": [
      "the number of sentences containing word 'the' (case insensitive): 372\n",
      "the average token length in the corpus: 3.5167431313610718\n",
      "number of different stemmer outputs for LancasterStemmer() and PorterStemmer() 555\n"
     ]
    }
   ],
   "source": [
    "# 1\n",
    "sents_with_the = sum(1 for s in sents if 'the' in map(lambda s_low : s_low.lower(), s))\n",
    "\n",
    "# 2\n",
    "average_token_len = sum(map(len, words)) / len(words)\n",
    "\n",
    "# 3\n",
    "lancaster = LancasterStemmer()\n",
    "porter = PorterStemmer()\n",
    "\n",
    "stem = sum([1 for word in set(map(lambda w_low: w_low.lower(), words)) \n",
    "            if lancaster.stem(word) != porter.stem(word)])\n",
    "\n",
    "\n",
    "print(\"the number of sentences containing word 'the' (case insensitive):\", sents_with_the)\n",
    "print(\"the average token length in the corpus:\", average_token_len)\n",
    "print(\"number of different stemmer outputs for LancasterStemmer() and PorterStemmer()\", stem)"
   ]
  },
  {
   "cell_type": "code",
   "execution_count": 93,
   "metadata": {
    "colab": {},
    "colab_type": "code",
    "id": "NHK4Q6l6wQVl"
   },
   "outputs": [
    {
     "name": "stdout",
     "output_type": "stream",
     "text": [
      "[('yawn', 'yawned'), ('leave', 'leaves'), ('watch', 'watched'), ('creep', 'creeping'), ('yawn', 'yawned'), ('get', 'got'), ('shake', 'shook'), ('walk', 'walked'), ('stand', 'stood'), ('reach', 'reached'), ('scratch', 'scratched'), ('claw', 'claws'), ('yawn', 'yawned'), ('seem', 'seemed'), ('jaw', 'jaws'), ('sit', 'sat'), ('want', 'wanted'), ('sit', 'sat'), ('try', 'trying'), ('be', 'was'), ('listen', 'listening'), ('sound', 'sounds'), ('tell', 'told'), ('wake', 'waking'), ('hear', 'heard'), ('scream', 'screaming'), ('grin', 'grinned'), ('think', 'thought'), ('have', 'has'), ('steal', 'stolen'), ('have', 'has'), ('steal', 'stolen'), ('be', 'is'), ('hear', 'heard'), ('scold', 'scolding'), ('work', 'working'), ('get', 'got'), ('think', 'thought'), ('hear', 'heard'), ('caw', 'cawing'), ('know', 'knew'), ('be', 'was'), ('get', 'getting'), ('hear', 'heard'), ('voice', 'voices'), ('be', 'were'), ('listen', 'listened'), ('stop', 'stopped'), ('go', 'went'), ('be', 'was'), ('listen', 'listened'), ('come', 'came'), ('want', 'wanted'), ('go', 'going'), ('fish', 'fishing'), ('say', 'said'), ('go', 'going'), ('fish', 'fishing'), ('shuffle', 'shuffled'), ('know', 'knew'), ('draw', 'drew'), ('take', 'took'), ('great', 'greatest'), ('teeny', 'teeniest'), ('weeny', 'weeniest'), ('bite', 'bit'), ('happen', 'happened'), ('be', 'was'), ('be', 'was'), ('come', 'came'), ('have', 'had'), ('catch', 'caught'), ('be', 'was'), ('be', 'was'), ('climb', 'climbing'), ('water', 'watered'), ('sit', 'sat'), ('see', 'seen'), ('be', 'was'), ('tiptoe', 'tiptoed'), ('be', 'was'), ('say', 'said'), ('look', 'looking'), ('have', 'had'), ('give', 'gave'), ('turn', 'turning'), ('be', 'was'), ('speak', 'speaking'), ('drop', 'dropped'), ('dive', 'dived'), ('spring', 'sprang'), ('paw', 'paws'), ('catch', 'caught'), ('be', 'was'), ('slip', 'slipping'), ('say', 'said'), ('have', 'had'), ('frighten', 'frightened'), ('say', 'said'), ('be', 'is'), ('be', 'was'), ('snarl', 'snarled'), ('call', 'called'), ('chuckle', 'chuckled'), ('think', 'thought'), ('repeat', 'repeated'), ('turn', 'turned'), ('go', 'went'), ('say', 'said'), ('well', 'better'), ('be', 'was'), ('wonder', 'wondering'), ('eat', 'ate'), ('start', 'started'), ('be', 'was'), ('be', 'was'), ('begin', 'beginning'), ('know', 'knew'), ('be', 'was'), ('take', 'taken'), ('be', 'was'), ('be', 'is'), ('tell', 'told'), ('be', 'was'), ('be', 'was'), ('frighten', 'frightened'), ('be', 'was'), ('sit', 'sitting'), ('tell', 'told'), ('be', 'was'), ('go', 'going'), ('have', 'had'), ('catch', 'caught'), ('take', 'took'), ('eat', 'ate'), ('belong', 'belonged'), ('go', 'going'), ('be', 'is'), ('be', 'is'), ('have', 'had'), ('have', 'had'), ('take', 'taken'), ('look', 'looking'), ('do', 'did'), ('amount', 'amounted'), ('know', 'knew'), ('invite', 'invited'), ('be', 'is'), ('ask', 'asked'), ('drown', 'drowned'), ('snap', 'snapped'), ('have', 'had'), ('get', 'getting'), ('drown', 'drowned'), ('be', 'was'), ('be', 'was'), ('have', 'had'), ('be', 'been'), ('know', 'known'), ('be', 'is'), ('do', 'doing'), ('say', 'said'), ('get', 'got'), ('good', 'better'), ('agree', 'agreed'), ('coat', 'coated'), ('scamp', 'scamps'), ('turn', 'turned'), ('take', 'taking'), ('great', 'greatest'), ('have', 'had'), ('go', 'gone'), ('whisper', 'whispered'), ('be', 'is'), ('be', 'was'), ('sit', 'sitting'), ('look', 'looking'), ('do', 'doing'), ('ask', 'asked'), ('sit', 'sat'), ('long', 'longest'), ('move', 'moving'), ('paw', 'paws'), ('go', 'went'), ('scoop', 'scooped'), ('have', 'had'), ('venture', 'ventured'), ('fish', 'fishing'), ('exclaim', 'exclaimed'), ('be', 'is'), ('be', 'was'), ('do', 'doing'), ('be', 'was'), ('be', 'was'), ('have', 'having'), ('have', 'had'), ('eat', 'eaten'), ('have', 'had'), ('catch', 'caught'), ('move', 'moved'), ('be', 'are'), ('say', 'said'), ('have', 'has'), ('catch', 'catching'), ('be', 'are'), ('go', 'going'), ('say', 'said'), ('cry', 'cried'), ('have', 'had'), ('pop', 'popped'), ('go', 'going'), ('pool', 'pools'), ('slip', 'slipped'), ('swim', 'swam'), ('frighten', 'frightened'), ('flee', 'fled'), ('stir', 'stirred'), ('be', 'was'), ('see', 'seen'), ('do', 'did'), ('fish', 'fishing'), ('be', 'was'), ('spoil', 'spoiled'), ('enjoy', 'enjoyed'), ('come', 'came'), ('begin', 'began'), ('surprise', 'surprised'), ('be', 'was'), ('drop', 'dropped'), ('have', 'had'), ('catch', 'caught'), ('have', 'had'), ('seem', 'seemed'), ('have', 'had'), ('chuckle', 'chuckled'), ('be', 'was'), ('eat', 'eating'), ('have', 'had'), ('finish', 'finished'), ('start', 'started'), ('fish', 'fishing'), ('come', 'came'), ('steal', 'stole'), ('sit', 'sat'), ('learn', 'learned'), ('be', 'is'), ('chase', 'chasing'), ('be', 'was'), ('look', 'looked'), ('be', 'is'), ('think', 'thought'), ('be', 'was'), ('swim', 'swam'), ('be', 'was'), ('sit', 'sitting'), ('look', 'looking'), ('quick', 'quicker'), ('paw', 'paws'), ('want', 'wants'), ('move', 'moved'), ('quick', 'quicker'), ('have', 'had'), ('scoop', 'scooped'), ('eye', 'eyes'), ('twinkle', 'twinkled'), ('smack', 'smacked'), ('move', 'moved'), ('know', 'knew'), ('be', 'was'), ('be', 'were'), ('frighten', 'frightened'), ('happen', 'happened'), ('be', 'was'), ('spirit', 'spirits'), ('be', 'was'), ('be', 'was'), ('catch', 'caught'), ('take', 'takes'), ('keep', 'kept'), ('be', 'being'), ('be', 'were'), ('be', 'was'), ('look', 'looked'), ('have', 'had'), ('stir', 'stirred'), ('say', 'said'), ('go', 'went'), ('find', 'found'), ('go', 'went'), ('be', 'was'), ('good', 'better'), ('sit', 'sat'), ('scratch', 'scratched'), ('be', 'was'), ('puzzle', 'puzzling'), ('be', 'was'), ('puzzle', 'puzzling'), ('look', 'looked'), ('look', 'looked'), ('be', 'was'), ('see', 'seen'), ('be', 'was'), ('seem', 'seemed'), ('be', 'were'), ('laugh', 'laughing'), ('mutter', 'muttered'), ('look', 'looks'), ('fish', 'fishing'), ('be', 'is'), ('spoil', 'spoiled'), ('catch', 'caught'), ('do', 'did'), ('look', 'looks'), ('be', 'is'), ('try', 'trying'), ('think', 'thought'), ('have', 'had'), ('pop', 'popped'), ('begin', 'began'), ('be', 'is'), ('try', 'trying'), ('eat', 'eating'), ('enjoy', 'enjoys'), ('be', 'is'), ('laugh', 'laughed'), ('have', 'had'), ('side', 'sides'), ('be', 'is'), ('good', 'better'), ('go', 'going'), ('have', 'had'), ('do', 'done'), ('be', 'are'), ('be', 'are'), ('say', 'said'), ('chuckle', 'chuckling'), ('go', 'went'), ('be', 'is'), ('be', 'is'), ('be', 'is'), ('come', 'came'), ('furnish', 'furnished'), ('have', 'had'), ('have', 'had'), ('be', 'is'), ('think', 'thought'), ('be', 'was'), ('prevent', 'preventing'), ('get', 'getting'), ('acquaint', 'acquainted'), ('be', 'is'), ('be', 'is'), ('bite', 'bit'), ('be', 'were'), ('have', 'had'), ('have', 'had'), ('fish', 'fishing'), ('think', 'thought'), ('have', 'had'), ('catch', 'caught'), ('fish', 'fished'), ('make', 'made'), ('be', 'were'), ('discover', 'discovered'), ('be', 'was'), ('make', 'made'), ('mind', 'minds'), ('have', 'had'), ('get', 'got'), ('do', 'done'), ('do', 'did'), ('say', 'said'), ('come', 'coming'), ('do', 'did'), ('hide', 'hid'), ('have', 'had'), ('give', 'given'), ('begin', 'began'), ('come', 'coming'), ('slip', 'slipped'), ('chase', 'chased'), ('stir', 'stirred'), ('be', 'was'), ('see', 'seen'), ('hurry', 'hurried'), ('do', 'did'), ('be', 'is'), ('have', 'had'), ('guess', 'guessed'), ('have', 'had'), ('spoil', 'spoiled'), ('fish', 'fishing'), ('go', 'went'), ('be', 'were'), ('watch', 'watching'), ('be', 'was'), ('come', 'coming'), ('keep', 'keeping'), ('hurry', 'hurried'), ('be', 'was'), ('sit', 'sat'), ('chuckle', 'chuckling'), ('happen', 'happened'), ('have', 'had'), ('expect', 'expected'), ('chase', 'chased'), ('pool', 'pools'), ('be', 'was'), ('be', 'was'), ('come', 'came'), ('be', 'was'), ('wait', 'waiting'), ('have', 'had'), ('be', 'was'), ('be', 'was'), ('save', 'saved'), ('wait', 'waited'), ('come', 'came'), ('chuckle', 'chuckling'), ('have', 'had'), ('spoil', 'spoiled'), ('fish', 'fishing'), ('be', 'was'), ('look', 'looking'), ('be', 'was'), ('come', 'coming'), ('wait', 'waiting'), ('speak', 'spoke'), ('oblige', 'obliged'), ('give', 'given'), ('say', 'said'), ('save', 'saved'), ('eat', 'ate'), ('fish', 'fishing'), ('go', 'went'), ('laugh', 'laughing'), ('be', 'was'), ('go', 'went'), ('sulk', 'sulked'), ('have', 'had'), ('be', 'been'), ('watch', 'watching'), ('eat', 'ate'), ('be', 'is'), ('trouble', 'troubles'), ('be', 'are'), ('think', 'thought'), ('neighbor', 'neighbors'), ('be', 'are'), ('run', 'running'), ('be', 'are'), ('respect', 'respected'), ('be', 'is'), ('be', 'is'), ('be', 'is'), ('neighbor', 'neighbors'), ('be', 'is'), ('have', 'has'), ('be', 'is'), ('find', 'found'), ('have', 'had'), ('be', 'been'), ('spoil', 'spoiling'), ('fish', 'fishing'), ('have', 'had'), ('make', 'made'), ('easy', 'easier'), ('want', 'wanted'), ('go', 'went'), ('stop', 'stopped'), ('have', 'had'), ('leave', 'left'), ('go', 'went'), ('reach', 'reached'), ('climb', 'climbed'), ('sulk', 'sulked'), ('sulk', 'sulked'), ('ask', 'asked'), ('be', 'was'), ('tell', 'told'), ('tell', 'told'), ('have', 'had'), ('be', 'been'), ('tickle', 'tickled'), ('have', 'had'), ('do', 'did'), ('do', 'did'), ('have', 'had'), ('be', 'been'), ('listen', 'listening'), ('make', 'made'), ('say', 'said'), ('have', 'had'), ('laugh', 'laughed'), ('declare', 'declared'), ('be', 'are'), ('bully', 'bullies'), ('see', 'seen'), ('be', 'is'), ('hear', 'heard'), ('be', 'is'), ('say', 'said'), ('snap', 'snapped'), ('be', 'were'), ('protest', 'protested'), ('steal', 'stole'), ('good', 'better'), ('make', 'makes'), ('growl', 'growled'), ('look', 'looked'), ('wink', 'winked'), ('eye', 'eyes'), ('come', 'comes'), ('say', 'said'), ('do', 'does'), ('snap', 'snapped'), ('fly', 'flies'), ('get', 'got'), ('reply', 'replied'), ('be', 'was'), ('hop', 'hoping'), ('steal', 'stealing'), ('accord', 'according'), ('get', 'getting'), ('retort', 'retorted'), ('catch', 'caught'), ('fly', 'flies'), ('catch', 'caught'), ('ask', 'asked'), ('continue', 'continued'), ('be', 'are'), ('big', 'bigger'), ('strong', 'stronger'), ('smart', 'smarter'), ('be', 'are'), ('pay', 'pays'), ('continue', 'continued'), ('make', 'makes'), ('put', 'puts'), ('find', 'found'), ('take', 'took'), ('admit', 'admitted'), ('be', 'was'), ('like', 'likes'), ('be', 'being'), ('have', 'has'), ('be', 'is'), ('have', 'has'), ('have', 'having'), ('be', 'is'), ('be', 'is'), ('have', 'had'), ('know', 'knew'), ('shake', 'shook'), ('have', 'had'), ('be', 'been'), ('be', 'is'), ('say', 'said'), ('be', 'was'), ('be', 'was'), ('hear', 'heard'), ('have', 'had'), ('be', 'been'), ('tickle', 'tickled'), ('have', 'had'), ('do', 'did'), ('be', 'was'), ('advise', 'advised'), ('be', 'was'), ('big', 'bigger'), ('strong', 'stronger'), ('be', 'was'), ('sniff', 'sniffed'), ('go', 'went'), ('declare', 'declaring'), ('be', 'is'), ('have', 'had'), ('reach', 'reached'), ('have', 'had'), ('cool', 'cooled'), ('begin', 'began'), ('have', 'had'), ('work', 'worked'), ('pool', 'pools'), ('have', 'had'), ('be', 'been'), ('drive', 'driving'), ('paw', 'paws'), ('grin', 'grinned'), ('be', 'was'), ('grow', 'grew'), ('say', 'said'), ('wipe', 'wiped'), ('tear', 'tears'), ('eye', 'eyes'), ('be', 'is'), ('be', 'is'), ('go', 'went'), ('fish', 'fishing'), ('know', 'knew'), ('catch', 'caught'), ('big', 'biggest'), ('be', 'was'), ('make', 'made'), ('be', 'are'), ('lay', 'laid'), ('hide', 'hid'), ('be', 'was'), ('seem', 'seemed'), ('lose', 'lost'), ('have', 'had'), ('turn', 'turned'), ('look', 'looked'), ('be', 'was'), ('see', 'seen'), ('steal', 'stolen'), ('take', 'taken'), ('get', 'gotten'), ('dart', 'darted'), ('look', 'looked'), ('be', 'was'), ('be', 'was'), ('small', 'smallest'), ('be', 'is'), ('spring', 'sprang'), ('be', 'was'), ('dart', 'darted'), ('wait', 'waited'), ('eye', 'eyes'), ('be', 'was'), ('shuffle', 'shuffling'), ('stop', 'stopped'), ('sniff', 'sniffed'), ('have', 'had'), ('carry', 'carried'), ('come', 'came'), ('wrinkle', 'wrinkling'), ('eye', 'eyes'), ('twinkle', 'twinkling'), ('be', 'was'), ('say', 'said'), ('say', 'said'), ('catch', 'caught'), ('eye', 'eyes'), ('twinkle', 'twinkled'), ('be', 'are'), ('go', 'going'), ('reply', 'replied'), ('tramp', 'tramped'), ('whistle', 'whistling'), ('whistle', 'whistles'), ('feel', 'feels'), ('feel', 'feels'), ('go', 'goes'), ('fish', 'fishing'), ('be', 'is'), ('fish', 'fishing'), ('be', 'is'), ('be', 'was'), ('make', 'making'), ('have', 'had'), ('follow', 'followed'), ('know', 'knew'), ('do', 'did'), ('be', 'was'), ('whistle', 'whistled'), ('tramp', 'tramped'), ('be', 'was'), ('reach', 'reached'), ('bait', 'baited'), ('take', 'taking'), ('great', 'greatest'), ('begin', 'began'), ('learn', 'learned'), ('have', 'had'), ('expect', 'expected'), ('bite', 'bit'), ('keep', 'kept'), ('fish', 'fished'), ('wait', 'waiting'), ('lose', 'lost'), ('grow', 'grown'), ('mutter', 'muttered'), ('move', 'moved'), ('happen', 'happened'), ('be', 'was'), ('bring', 'brought'), ('faint', 'faintest'), ('trudge', 'trudged'), ('be', 'was'), ('have', 'had'), ('happen', 'happened'), ('have', 'had'), ('dream', 'dreamed'), ('fry', 'fried'), ('come', 'comes'), ('fish', 'fishing'), ('have', 'had'), ('be', 'been'), ('catch', 'caught'), ('frighten', 'frightened'), ('be', 'are'), ('hide', 'hiding'), ('say', 'said'), ('trudge', 'trudged'), ('have', 'had'), ('be', 'were'), ('head', 'heads'), ('scowl', 'scowled'), ('be', 'been'), ('fish', 'fishing'), ('have', 'had'), ('well', 'better'), ('think', 'thought'), ('look', 'looked'), ('be', 'was'), ('see', 'seen'), ('pick', 'picked'), ('head', 'heads'), ('look', 'looked'), ('be', 'was'), ('bite', 'bitten'), ('exclaim', 'exclaimed'), ('be', 'is'), ('have', 'has'), ('spoil', 'spoiled'), ('keep', 'kept'), ('sign', 'signs'), ('find', 'found'), ('head', 'heads'), ('sign', 'signs'), ('catch', 'caught'), ('puzzle', 'puzzled'), ('catch', 'caught'), ('frighten', 'frightened'), ('eat', 'eaten'), ('have', 'having'), ('know', 'known'), ('head', 'heads'), ('catch', 'catches'), ('hide', 'hides'), ('go', 'went'), ('grow', 'grew'), ('make', 'made'), ('have', 'had'), ('know', 'known'), ('have', 'had'), ('be', 'been'), ('be', 'were'), ('watch', 'watching'), ('chuckle', 'chuckling'), ('be', 'were'), ('be', 'is'), ('do', 'did'), ('go', 'went'), ('fish', 'fishing'), ('have', 'had'), ('be', 'are'), ('make', 'makes'), ('stand', 'stands'), ('look', 'looks'), ('be', 'is'), ('be', 'is'), ('have', 'had'), ('happen', 'happened'), ('be', 'is'), ('be', 'been'), ('be', 'been'), ('find', 'found'), ('have', 'had'), ('find', 'found'), ('head', 'heads'), ('know', 'knew'), ('have', 'had'), ('be', 'been'), ('fish', 'fishing'), ('be', 'was'), ('eat', 'eaten'), ('be', 'was'), ('puzzle', 'puzzled'), ('be', 'was'), ('turn', 'turning'), ('study', 'studying'), ('come', 'came'), ('make', 'made'), ('eye', 'eyes'), ('be', 'was'), ('be', 'is'), ('say', 'said'), ('tell', 'told'), ('be', 'was'), ('be', 'was'), ('be', 'was'), ('be', 'was'), ('be', 'was'), ('big', 'biggest'), ('have', 'had'), ('see', 'seen'), ('look', 'looked'), ('have', 'had'), ('be', 'been'), ('make', 'made'), ('be', 'was'), ('have', 'had'), ('have', 'had'), ('hear', 'heard'), ('be', 'being'), ('be', 'was'), ('have', 'had'), ('eye', 'eyes'), ('have', 'had'), ('feel', 'feeling'), ('feel', 'feeling'), ('be', 'was'), ('meet', 'meeting'), ('have', 'had'), ('have', 'had'), ('be', 'been'), ('make', 'made'), ('have', 'had'), ('feel', 'feeling'), ('be', 'was'), ('be', 'being'), ('watch', 'watched'), ('be', 'being'), ('watch', 'watched'), ('be', 'were'), ('watch', 'watching'), ('take', 'taking'), ('great', 'greatest'), ('keep', 'kept'), ('look', 'looking'), ('reach', 'reached'), ('have', 'had'), ('want', 'wanted'), ('say', 'said'), ('be', 'was'), ('be', 'was'), ('be', 'was'), ('burst', 'bursting'), ('have', 'had'), ('great', 'greatest'), ('have', 'had'), ('find', 'found'), ('track', 'tracks'), ('long', 'longer'), ('have', 'had'), ('hurry', 'hurried'), ('be', 'was'), ('hop', 'hoped'), ('be', 'was'), ('make', 'making'), ('face', 'faces'), ('be', 'was'), ('be', 'was'), ('be', 'were'), ('be', 'was'), ('sit', 'sitting'), ('swim', 'swam'), ('climb', 'climbed'), ('high', 'highest'), ('look', 'looked'), ('eye', 'eyes'), ('sparkle', 'sparkled'), ('know', 'knew'), ('have', 'had'), ('happen', 'happened'), ('cry', 'cried'), ('have', 'has'), ('be', 'been'), ('smart', 'smarter'), ('make', 'made'), ('shake', 'shook'), ('say', 'said'), ('be', 'are'), ('smart', 'smarter'), ('glare', 'glared'), ('roll', 'rolled'), ('snap', 'snapped'), ('cry', 'cried'), ('glare', 'glared'), ('snarl', 'snarled'), ('buzz', 'buzzing'), ('taunt', 'taunted'), ('say', 'said'), ('gruff', 'gruffest'), ('be', 'is'), ('have', 'has'), ('get', 'got'), ('cry', 'cried'), ('good', 'better'), ('be', 'is'), ('be', 'is'), ('reply', 'replied'), ('be', 'is'), ('look', 'looked'), ('face', 'faces'), ('watch', 'watching'), ('slow', 'slowest'), ('drawl', 'drawled'), ('be', 'is'), ('say', 'said'), ('lean', 'leaned'), ('look', 'looked'), ('say', 'said'), ('live', 'lives'), ('be', 'are'), ('glare', 'glared'), ('retort', 'retorted'), ('tell', 'told'), ('have', 'had'), ('be', 'been'), ('fish', 'fishing'), ('have', 'had'), ('be', 'been'), ('fish', 'fishing'), ('catch', 'caught'), ('have', 'had'), ('be', 'been'), ('catch', 'caught'), ('frighten', 'frightened'), ('get', 'got'), ('tell', 'told'), ('have', 'had'), ('find', 'found'), ('have', 'had'), ('stop', 'stopped'), ('fish', 'fishing'), ('start', 'started'), ('look', 'looking'), ('eye', 'eyes'), ('conclude', 'concluded'), ('know', 'knows'), ('come', 'comes'), ('prowl', 'prowling'), ('be', 'are'), ('snap', 'snapped'), ('tell', 'told'), ('have', 'had'), ('see', 'seeing'), ('live', 'lives'), ('know', 'knew'), ('help', 'helped'), ('help', 'helped'), ('have', 'had'), ('be', 'been'), ('be', 'were'), ('tickle', 'tickled'), ('piece', 'pieces'), ('think', 'thought'), ('have', 'having'), ('have', 'had'), ('be', 'was'), ('become', 'became'), ('be', 'was'), ('be', 'was'), ('doubt', 'doubted'), ('know', 'knew'), ('doubt', 'doubted'), ('be', 'was'), ('be', 'was'), ('pretend', 'pretended'), ('have', 'had'), ('say', 'said'), ('agree', 'agreed'), ('see', 'seeing'), ('make', 'made'), ('believe', 'believed'), ('be', 'was'), ('rejoice', 'rejoicing'), ('be', 'were'), ('be', 'was'), ('be', 'were'), ('have', 'had'), ('try', 'tried'), ('trap', 'traps'), ('have', 'had'), ('hunt', 'hunted'), ('be', 'were'), ('have', 'had'), ('frighten', 'frightened'), ('begin', 'began'), ('try', 'tried'), ('go', 'went'), ('favor', 'favors'), ('meet', 'met'), ('be', 'was'), ('win', 'won'), ('watch', 'watching'), ('say', 'said'), ('wash', 'washed'), ('be', 'is'), ('win', 'won'), ('trap', 'traps'), ('gloat', 'gloated'), ('say', 'said'), ('hear', 'heard'), ('oblige', 'obliged'), ('be', 'are'), ('have', 'has'), ('do', 'done'), ('propose', 'proposed'), ('cry', 'cried'), ('break', 'broke'), ('be', 'is'), ('snap', 'snapped'), ('tell', 'telling'), ('doubt', 'doubts'), ('reply', 'replied'), ('be', 'was'), ('have', 'had'), ('be', 'been'), ('get', 'got'), ('be', 'is'), ('be', 'is'), ('ask', 'asked'), ('shake', 'shook'), ('wink', 'winked'), ('tell', 'telling'), ('say', 'said'), ('be', 'is'), ('be', 'is'), ('be', 'is'), ('be', 'is'), ('be', 'is'), ('scheme', 'scheming'), ('be', 'is'), ('be', 'is'), ('smart', 'smartest'), ('clever', 'cleverest'), ('like', 'likes'), ('want', 'wants'), ('go', 'going'), ('be', 'is'), ('good', 'better'), ('like', 'likes'), ('have', 'has'), ('do', 'does'), ('sit', 'sat'), ('look', 'looked'), ('gather', 'gathered'), ('be', 'was'), ('love', 'loves'), ('have', 'had'), ('see', 'seeing'), ('be', 'were'), ('be', 'was'), ('sit', 'sat'), ('sit', 'sat'), ('sit', 'sat'), ('be', 'were'), ('be', 'were'), ('be', 'were'), ('wait', 'waited'), ('be', 'was'), ('be', 'was'), ('come', 'coming'), ('clear', 'cleared'), ('begin', 'began'), ('say', 'said'), ('grin', 'grinned'), ('have', 'has'), ('play', 'played'), ('trick', 'tricks'), ('be', 'is'), ('be', 'is'), ('be', 'is'), ('say', 'said'), ('go', 'went'), ('have', 'has'), ('tell', 'told'), ('find', 'found'), ('keep', 'kept'), ('look', 'looking'), ('be', 'were'), ('be', 'was'), ('have', 'had'), ('make', 'made'), ('be', 'is'), ('be', 'is'), ('have', 'has'), ('be', 'is'), ('be', 'is'), ('run', 'runs'), ('be', 'is'), ('be', 'is'), ('be', 'is'), ('be', 'is'), ('begin', 'began'), ('be', 'was'), ('agree', 'agreed'), ('promise', 'promised'), ('promise', 'promised'), ('be', 'is'), ('be', 'was'), ('agree', 'agreed'), ('be', 'was'), ('have', 'had'), ('be', 'been'), ('sit', 'sitting'), ('tall', 'tallest'), ('near', 'nearest'), ('have', 'had'), ('take', 'taken'), ('eye', 'eyes'), ('be', 'was'), ('watch', 'watching'), ('cow', 'cows'), ('be', 'was'), ('slip', 'slipping'), ('look', 'looking'), ('come', 'came'), ('be', 'was'), ('open', 'opened'), ('step', 'stepped'), ('carry', 'carried'), ('begin', 'began'), ('shout', 'shouted'), ('fly', 'flew'), ('tree', 'trees'), ('excite', 'excited'), ('look', 'looked'), ('wonder', 'wondered'), ('be', 'was'), ('do', 'did'), ('start', 'started'), ('be', 'is'), ('be', 'is'), ('mean', 'meaning'), ('have', 'has'), ('except', 'excepting'), ('start', 'started'), ('scream', 'screamed'), ('hard', 'harder'), ('grow', 'grew'), ('keep', 'kept'), ('make', 'making'), ('get', 'got'), ('fee', 'feed'), ('cow', 'cows'), ('say', 'said'), ('have', 'had'), ('be', 'been'), ('hide', 'hiding'), ('go', 'went'), ('disappear', 'disappeared'), ('snicker', 'snickered'), ('be', 'is'), ('shout', 'shouted'), ('hang', 'hung'), ('be', 'is'), ('do', 'does'), ('come', 'comes'), ('say', 'said'), ('have', 'had'), ('join', 'joined'), ('be', 'was'), ('decide', 'decided'), ('seem', 'seemed'), ('do', 'did'), ('begin', 'began'), ('take', 'took'), ('come', 'came'), ('start', 'started'), ('be', 'was'), ('mean', 'meant'), ('be', 'was'), ('have', 'had'), ('hear', 'heard'), ('scream', 'screaming'), ('have', 'had'), ('listen', 'listened'), ('be', 'was'), ('start', 'started'), ('start', 'started'), ('be', 'were'), ('make', 'making'), ('walk', 'walked'), ('be', 'was'), ('walk', 'walking'), ('be', 'is'), ('do', 'did'), ('meet', 'met'), ('come', 'came'), ('hurry', 'hurrying'), ('tell', 'told'), ('have', 'had'), ('see', 'seen'), ('have', 'had'), ('say', 'said'), ('be', 'was'), ('be', 'was'), ('have', 'had'), ('be', 'been'), ('laugh', 'laughed'), ('have', 'had'), ('laugh', 'laughed'), ('laugh', 'laughed'), ('say', 'said'), ('be', 'been'), ('be', 'was'), ('be', 'was'), ('make', 'made'), ('be', 'been'), ('imagine', 'imagined'), ('have', 'had'), ('laugh', 'laughed'), ('go', 'goes'), ('be', 'is'), ('mistake', 'mistaken'), ('be', 'is'), ('see', 'seen'), ('laugh', 'laughed'), ('make', 'made'), ('begin', 'began'), ('be', 'been'), ('mistake', 'mistaken'), ('hear', 'heard'), ('make', 'making'), ('think', 'thought'), ('start', 'started'), ('be', 'was'), ('go', 'going'), ('come', 'coming'), ('move', 'moved'), ('scream', 'screaming'), ('mean', 'meant'), ('have', 'had'), ('see', 'seen'), ('have', 'had'), ('say', 'said'), ('be', 'was'), ('be', 'was'), ('tree', 'trees'), ('stump', 'stumps'), ('branch', 'branches'), ('top', 'tops'), ('be', 'were'), ('watch', 'watching'), ('eye', 'eyes'), ('be', 'was'), ('have', 'had'), ('be', 'were'), ('have', 'had'), ('be', 'was'), ('watch', 'watching'), ('come', 'coming'), ('walk', 'walked'), ('be', 'is'), ('make', 'making'), ('teeny', 'teeniest'), ('weeny', 'weeniest'), ('be', 'is'), ('happen', 'happened'), ('hear', 'heard'), ('step', 'stepped'), ('step', 'stepped'), ('be', 'were'), ('hold', 'held'), ('be', 'was'), ('hear', 'heard'), ('be', 'was'), ('go', 'going'), ('look', 'looking'), ('hold', 'held'), ('look', 'looking'), ('hold', 'held'), ('stick', 'sticking'), ('hold', 'held'), ('look', 'looking'), ('be', 'was'), ('hide', 'hiding'), ('hold', 'held'), ('lie', 'lying'), ('hold', 'held'), ('sit', 'sitting'), ('eye', 'eyes'), ('hold', 'held'), ('happen', 'happened'), ('do', 'did'), ('be', 'was'), ('be', 'was'), ('have', 'had'), ('step', 'stepped'), ('have', 'had'), ('step', 'stepped'), ('have', 'had'), ('know', 'known'), ('be', 'was'), ('stand', 'stood'), ('gaze', 'gazing'), ('eye', 'eyes'), ('watch', 'watched'), ('wait', 'waited'), ('seem', 'seemed'), ('be', 'was'), ('hold', 'holding'), ('happen', 'happened'), ('happen', 'happened'), ('open', 'opened'), ('yell', 'yelled'), ('be', 'was'), ('startle', 'startled'), ('make', 'made'), ('be', 'was'), ('be', 'was'), ('turn', 'turned'), ('run', 'ran'), ('have', 'had'), ('see', 'seen'), ('run', 'ran'), ('run', 'runs'), ('have', 'has'), ('get', 'got'), ('be', 'is'), ('stumble', 'stumbled'), ('scramble', 'scrambled'), ('twinkle', 'twinkling'), ('go', 'went'), ('turn', 'turning'), ('be', 'was'), ('be', 'was'), ('lean', 'leaned'), ('do', 'did'), ('be', 'was'), ('cry', 'cried'), ('dance', 'dancing'), ('be', 'were'), ('doubt', 'doubted'), ('shriek', 'shrieked'), ('forget', 'forgot'), ('be', 'was'), ('make', 'made'), ('be', 'was'), ('run', 'running'), ('be', 'was'), ('run', 'running'), ('bump', 'bumped'), ('tree', 'trees'), ('crash', 'crashed'), ('bush', 'bushes'), ('jump', 'jumped'), ('log', 'logs'), ('be', 'was'), ('be', 'was'), ('have', 'had'), ('see', 'seen'), ('be', 'was'), ('run', 'running'), ('look', 'looked'), ('look', 'looked'), ('look', 'looked'), ('look', 'looked'), ('look', 'looked'), ('look', 'looked'), ('look', 'looked'), ('look', 'looked'), ('look', 'looked'), ('look', 'looked'), ('look', 'looked'), ('give', 'gave'), ('say', 'said'), ('be', 'is'), ('chuckle', 'chuckled'), ('be', 'are'), ('say', 'said'), ('do', 'does'), ('scar', 'scared'), ('remember', 'remembered'), ('have', 'has'), ('go', 'gone'), ('begin', 'began'), ('fall', 'fallen'), ('be', 'is'), ('have', 'has'), ('look', 'looked'), ('prove', 'proves'), ('be', 'was'), ('suppose', 'supposed'), ('be', 'was'), ('have', 'had'), ('tell', 'told'), ('have', 'had'), ('be', 'been'), ('have', 'had'), ('make', 'made'), ('have', 'had'), ('be', 'was'), ('have', 'had'), ('know', 'known'), ('live', 'lives'), ('look', 'looked'), ('be', 'were'), ('have', 'had'), ('see', 'seen'), ('be', 'was'), ('have', 'had'), ('be', 'was'), ('have', 'had'), ('do', 'done'), ('have', 'had'), ('have', 'had'), ('hide', 'hidden'), ('deep', 'deepest'), ('be', 'was'), ('be', 'was'), ('lose', 'lost'), ('have', 'had'), ('be', 'is'), ('begin', 'began'), ('say', 'said'), ('say', 'said'), ('meet', 'met'), ('say', 'said'), ('make', 'making'), ('hear', 'hearing'), ('think', 'thought'), ('delight', 'delighted'), ('fly', 'flying'), ('have', 'had'), ('find', 'found'), ('top', 'tops'), ('scream', 'screaming'), ('be', 'is'), ('be', 'are'), ('claw', 'claws'), ('be', 'are'), ('run', 'runs'), ('hide', 'hides'), ('time', 'times'), ('scream', 'screaming'), ('be', 'was'), ('have', 'had'), ('shout', 'shouted'), ('give', 'gave'), ('make', 'made'), ('shiver', 'shivers'), ('start', 'started'), ('scamper', 'scampered'), ('know', 'known'), ('be', 'is'), ('be', 'is'), ('be', 'was'), ('go', 'went'), ('growl', 'growling'), ('do', 'did'), ('have', 'had'), ('keep', 'kept'), ('run', 'ran'), ('frighten', 'frightened'), ('chatter', 'chattered'), ('look', 'looked'), ('come', 'coming'), ('near', 'nearer'), ('tumble', 'tumbled'), ('bad', 'worst'), ('be', 'was'), ('be', 'was'), ('be', 'was'), ('be', 'was'), ('know', 'knows'), ('be', 'is'), ('be', 'is'), ('take', 'takes'), ('know', 'knows'), ('be', 'is'), ('look', 'looking'), ('know', 'knows'), ('be', 'are'), ('come', 'comes'), ('be', 'is'), ('cling', 'clung'), ('look', 'looked'), ('draw', 'drawing'), ('listen', 'listened'), ('growl', 'growls'), ('make', 'made'), ('be', 'was'), ('have', 'had'), ('keep', 'kept'), ('say', 'saying'), ('have', 'had'), ('know', 'known'), ('have', 'had'), ('choose', 'chosen'), ('tree', 'trees'), ('say', 'said'), ('choose', 'chosen'), ('stand', 'stood'), ('be', 'was'), ('bad', 'worst'), ('be', 'was'), ('be', 'is'), ('come', 'came'), ('deep', 'deeper'), ('sound', 'sounded'), ('give', 'gave'), ('look', 'looked'), ('look', 'looked'), ('grind', 'ground'), ('seem', 'seemed'), ('have', 'had'), ('wing', 'wings'), ('growl', 'growled'), ('better', 'betters'), ('cry', 'cried'), ('growl', 'growled'), ('scramble', 'scrambling'), ('cry', 'cried'), ('run', 'ran'), ('have', 'had'), ('be', 'been'), ('cling', 'clinging'), ('have', 'had'), ('know', 'known'), ('be', 'was'), ('give', 'gave'), ('eye', 'eyes'), ('jump', 'jumped'), ('jump', 'jumped'), ('grind', 'ground'), ('be', 'was'), ('grind', 'ground'), ('look', 'looked'), ('kill', 'killed'), ('have', 'had'), ('learn', 'learned'), ('have', 'had'), ('give', 'given'), ('time', 'times'), ('be', 'is'), ('do', 'did'), ('arm', 'arms'), ('keep', 'kept'), ('fall', 'falling'), ('do', 'done'), ('be', 'being'), ('hold', 'held'), ('be', 'was'), ('be', 'is'), ('jerk', 'jerking'), ('scold', 'scolds'), ('help', 'helped'), ('help', 'helped'), ('turn', 'turning'), ('sail', 'sailed'), ('land', 'landed'), ('grind', 'ground'), ('lose', 'lost'), ('be', 'was'), ('be', 'was'), ('scurry', 'scurrying'), ('watch', 'watched'), ('grin', 'grinned'), ('growl', 'growled'), ('give', 'gave'), ('teach', 'taught'), ('be', 'is'), ('think', 'thinks'), ('be', 'is'), ('be', 'is'), ('carry', 'carried'), ('become', 'becomes'), ('be', 'is'), ('carry', 'carried'), ('have', 'had'), ('know', 'knew'), ('have', 'had'), ('talk', 'talking'), ('think', 'thinking'), ('be', 'is'), ('be', 'is'), ('carry', 'carried'), ('have', 'had'), ('live', 'lived'), ('talk', 'talking'), ('have', 'had'), ('grow', 'grown'), ('grow', 'grown'), ('do', 'did'), ('be', 'being'), ('come', 'came'), ('bring', 'brought'), ('habit', 'habits'), ('be', 'is'), ('habit', 'habits'), ('bring', 'brought'), ('talk', 'talking'), ('have', 'had'), ('neighbor', 'neighbors'), ('have', 'had'), ('be', 'is'), ('say', 'said'), ('be', 'is'), ('get', 'got'), ('be', 'is'), ('use', 'used'), ('forget', 'forgotten'), ('berry', 'berries'), ('be', 'were'), ('sigh', 'sighed'), ('sigh', 'sighed'), ('think', 'thought'), ('berry', 'berries'), ('be', 'were'), ('grow', 'growing'), ('want', 'wanted'), ('seem', 'seemed'), ('have', 'had'), ('want', 'wanted'), ('berry', 'berries'), ('do', 'did'), ('wander', 'wandered'), ('be', 'was'), ('berry', 'berries'), ('begin', 'began'), ('talk', 'talking'), ('be', 'being'), ('see', 'seen'), ('berry', 'berries'), ('lick', 'licked'), ('speak', 'spoke'), ('brighten', 'brightened'), ('be', 'is'), ('have', 'had'), ('be', 'been'), ('listen', 'listening'), ('be', 'was'), ('fly', 'flew'), ('chuckle', 'chuckling'), ('think', 'thought'), ('interest', 'interesting'), ('be', 'was'), ('have', 'had'), ('reach', 'reached'), ('have', 'had'), ('start', 'started'), ('join', 'joins'), ('move', 'moved'), ('know', 'knew'), ('be', 'was'), ('be', 'was'), ('be', 'was'), ('go', 'going'), ('berry', 'berrying'), ('wait', 'waited'), ('good', 'better'), ('start', 'started'), ('be', 'is'), ('think', 'thinking'), ('be', 'is'), ('happen', 'happened'), ('think', 'thought'), ('go', 'going'), ('berry', 'berrying'), ('be', 'was'), ('walk', 'walking'), ('talk', 'talking'), ('be', 'was'), ('berry', 'berries'), ('be', 'was'), ('be', 'was'), ('think', 'thinking'), ('berry', 'berries'), ('berry', 'berries'), ('ask', 'asked'), ('promise', 'promised'), ('go', 'went'), ('dream', 'dreamed'), ('berry', 'berries'), ('be', 'was'), ('think', 'thought'), ('be', 'was'), ('be', 'was'), ('come', 'came'), ('dance', 'dancing'), ('carry', 'carried'), ('wrap', 'wrapped'), ('be', 'was'), ('mean', 'meant'), ('fill', 'filled'), ('take', 'took'), ('be', 'is'), ('lie', 'lies'), ('extend', 'extends'), ('be', 'is'), ('berry', 'berries'), ('see', 'seeing'), ('bush', 'bushes'), ('have', 'had'), ('climb', 'climbed'), ('reach', 'reached'), ('be', 'was'), ('smile', 'smiling'), ('seem', 'seemed'), ('smile', 'smiling'), ('start', 'started'), ('stop', 'stopped'), ('think', 'thought'), ('be', 'am'), ('acquaint', 'acquainted'), ('be', 'was'), ('begin', 'beginning'), ('learn', 'learned'), ('learn', 'learned'), ('see', 'seen'), ('hear', 'heard'), ('do', 'doing'), ('try', 'tried'), ('bite', 'bit'), ('follow', 'followed'), ('know', 'knew'), ('berry', 'berries'), ('grow', 'grew'), ('keep', 'kept'), ('eye', 'eyes'), ('keep', 'kept'), ('be', 'is'), ('happen', 'happened'), ('have', 'had'), ('be', 'been'), ('whistle', 'whistling'), ('hear', 'heard'), ('stop', 'stopped'), ('have', 'had'), ('hear', 'heard'), ('be', 'was'), ('come', 'came'), ('be', 'was'), ('be', 'was'), ('be', 'was'), ('stand', 'stood'), ('listen', 'listened'), ('be', 'was'), ('be', 'was'), ('sound', 'sounded'), ('frighten', 'frightened'), ('wait', 'waited'), ('hear', 'heard'), ('begin', 'began'), ('be', 'was'), ('have', 'had'), ('grind', 'ground'), ('peer', 'peered'), ('bush', 'bushes'), ('peep', 'peeped'), ('log', 'logs'), ('stone', 'stones'), ('have', 'had'), ('give', 'given'), ('find', 'finding'), ('come', 'came'), ('go', 'went'), ('be', 'was'), ('be', 'was'), ('do', 'doing'), ('be', 'was'), ('try', 'trying'), ('make', 'made'), ('hold', 'held'), ('be', 'was'), ('be', 'was'), ('have', 'having'), ('fine', 'finest'), ('have', 'had'), ('have', 'had'), ('come', 'came'), ('be', 'was'), ('touch', 'touches'), ('be', 'was'), ('big', 'biggest'), ('big', 'biggest'), ('have', 'had'), ('see', 'seen'), ('be', 'is'), ('have', 'had'), ('be', 'is'), ('berry', 'berries'), ('berry', 'berries'), ('berry', 'berries'), ('blackberry', 'blackberries'), ('be', 'are'), ('mumble', 'mumbled'), ('sit', 'sat'), ('strip', 'stripping'), ('berry', 'berries'), ('eye', 'eyes'), ('twinkle', 'twinkled'), ('get', 'got'), ('leave', 'leaves'), ('berry', 'berries'), ('berry', 'berries'), ('chomp', 'chomped'), ('pat', 'patted'), ('have', 'had'), ('reach', 'reached'), ('have', 'had'), ('creep', 'crept'), ('have', 'had'), ('make', 'made'), ('have', 'had'), ('climb', 'climbed'), ('be', 'is'), ('be', 'is'), ('be', 'is'), ('have', 'has'), ('call', 'called'), ('seem', 'seems'), ('be', 'is'), ('have', 'had'), ('feel', 'feeling'), ('be', 'was'), ('start', 'started'), ('berry', 'berries'), ('make', 'made'), ('be', 'was'), ('find', 'found'), ('berry', 'berries'), ('be', 'was'), ('forget', 'forgot'), ('fear', 'fears'), ('taste', 'tasted'), ('have', 'had'), ('be', 'is'), ('take', 'takes'), ('keep', 'kept'), ('eat', 'eating'), ('eat', 'eating'), ('eat', 'eating'), ('eat', 'ate'), ('want', 'wanted'), ('be', 'is'), ('wander', 'wandered'), ('berry', 'berries'), ('think', 'thought'), ('be', 'is'), ('hard', 'hardest'), ('be', 'are'), ('have', 'having'), ('climb', 'climbed'), ('high', 'higher'), ('look', 'looked'), ('be', 'was'), ('go', 'going'), ('smile', 'smiled'), ('be', 'was'), ('have', 'having'), ('make', 'made'), ('fill', 'filling'), ('know', 'knew'), ('be', 'was'), ('know', 'knew'), ('be', 'was'), ('mumble', 'mumbled'), ('move', 'moved'), ('berry', 'berries'), ('give', 'gave'), ('be', 'was'), ('fine', 'finest'), ('big', 'biggest'), ('blue', 'bluest'), ('berry', 'berries'), ('be', 'were'), ('leave', 'leaves'), ('blink', 'blinked'), ('eye', 'eyes'), ('look', 'looked'), ('dream', 'dreaming'), ('be', 'were'), ('berry', 'berries'), ('have', 'had'), ('get', 'got'), ('be', 'was'), ('look', 'looked'), ('hold', 'held'), ('berry', 'berries'), ('seem', 'seemed'), ('reach', 'reached'), ('push', 'pushed'), ('tip', 'tipped'), ('spill', 'spilled'), ('berry', 'berries'), ('be', 'was'), ('give', 'gave'), ('berry', 'berries'), ('be', 'is'), ('do', 'did'), ('be', 'is'), ('belong', 'belongs'), ('be', 'is'), ('steal', 'stole'), ('berry', 'berries'), ('be', 'were'), ('find', 'found'), ('eat', 'ate'), ('know', 'knew'), ('pick', 'picked'), ('hear', 'heard'), ('grow', 'growing'), ('be', 'is'), ('take', 'took'), ('steal', 'stole'), ('be', 'was'), ('take', 'took'), ('be', 'was'), ('find', 'found'), ('brim', 'brimming'), ('berry', 'berries'), ('have', 'had'), ('be', 'is'), ('berry', 'berries'), ('eye', 'eyes'), ('forget', 'forgot'), ('be', 'was'), ('wait', 'waiting'), ('help', 'helping'), ('be', 'were'), ('berry', 'berries'), ('have', 'had'), ('see', 'seen'), ('have', 'had'), ('be', 'was'), ('be', 'is'), ('do', 'did'), ('have', 'had'), ('gobble', 'gobbled'), ('berry', 'berries'), ('roll', 'rolled'), ('be', 'were'), ('leave', 'left'), ('hear', 'heard'), ('be', 'were'), ('come', 'coming'), ('throw', 'threw'), ('do', 'did'), ('slip', 'slipped'), ('catch', 'caught'), ('be', 'was'), ('matter', 'matters'), ('bad', 'worse'), ('hear', 'heard'), ('tell', 'told'), ('be', 'was'), ('be', 'was'), ('have', 'had'), ('be', 'was'), ('mean', 'meant'), ('be', 'was'), ('want', 'wanted'), ('be', 'is'), ('be', 'is'), ('be', 'is'), ('be', 'beings'), ('be', 'are'), ('growl', 'growled'), ('whine', 'whined'), ('squeal', 'squealed'), ('try', 'tried'), ('try', 'tried'), ('try', 'tried'), ('be', 'was'), ('be', 'been'), ('recognize', 'recognized'), ('be', 'is'), ('be', 'was'), ('have', 'had'), ('discover', 'discovered'), ('have', 'had'), ('yell', 'yelled'), ('have', 'had'), ('suppose', 'supposed'), ('be', 'was'), ('be', 'was'), ('frighten', 'frightened'), ('be', 'was'), ('frighten', 'frightened'), ('stand', 'stood'), ('star', 'stared'), ('claw', 'clawed'), ('slip', 'slipped'), ('give', 'gave'), ('start', 'started'), ('be', 'was'), ('crash', 'crashed'), ('bush', 'bushes'), ('be', 'were'), ('funny', 'funniest'), ('be', 'is'), ('take', 'took'), ('run', 'ran'), ('slip', 'slipped'), ('be', 'was'), ('be', 'was'), ('run', 'running'), ('hang', 'hanging'), ('give', 'given'), ('take', 'took'), ('bring', 'brings'), ('do', 'did'), ('be', 'was'), ('scream', 'screaming'), ('follow', 'followed'), ('have', 'had'), ('scream', 'screamed'), ('have', 'had'), ('sound', 'sounded'), ('be', 'are'), ('hear', 'hearing'), ('bless', 'blessed'), ('hear', 'heard'), ('stop', 'stopped'), ('be', 'was'), ('do', 'doing'), ('prick', 'pricked'), ('happen', 'happened'), ('fly', 'flying'), ('hear', 'heard'), ('turn', 'turned'), ('fly', 'flew'), ('be', 'was'), ('catch', 'caught'), ('run', 'running'), ('understand', 'understood'), ('have', 'had'), ('excite', 'excited'), ('be', 'was'), ('forget', 'forgot'), ('wing', 'wings'), ('move', 'moving'), ('have', 'had'), ('look', 'looked'), ('hang', 'hanging'), ('be', 'was'), ('excite', 'excited'), ('wing', 'wings'), ('start', 'started'), ('reach', 'reached'), ('run', 'running'), ('fly', 'flying'), ('scream', 'screaming'), ('try', 'trying'), ('yell', 'yelling'), ('be', 'was'), ('frighten', 'frightened'), ('have', 'had'), ('be', 'been'), ('have', 'had'), ('catch', 'caught'), ('have', 'had'), ('yell', 'yelled'), ('have', 'had'), ('run', 'ran'), ('be', 'was'), ('make', 'making'), ('neighbor', 'neighbors'), ('be', 'was'), ('humiliate', 'humiliated'), ('be', 'is'), ('say', 'saying'), ('sham', 'shamed'), ('be', 'was'), ('sham', 'shamed'), ('eye', 'eyes'), ('neighbor', 'neighbors'), ('want', 'wanted'), ('be', 'is'), ('be', 'is'), ('reach', 'reached'), ('keep', 'kept'), ('dark', 'darkest'), ('creep', 'crept'), ('be', 'was'), ('eye', 'eyes'), ('fly', 'flew'), ('be', 'was'), ('hide', 'hiding'), ('do', 'did'), ('come', 'came'), ('drop', 'dropping'), ('take', 'took'), ('go', 'went'), ('begin', 'began'), ('come', 'came'), ('come', 'came'), ('voice', 'voices'), ('carry', 'carried'), ('hurry', 'hurried'), ('excite', 'exciting'), ('be', 'was'), ('go', 'going'), ('hear', 'heard'), ('peep', 'peeping'), ('be', 'was'), ('be', 'being'), ('see', 'seen'), ('be', 'were'), ('sit', 'sat'), ('laugh', 'laughing'), ('make', 'making'), ('scream', 'screamed'), ('be', 'was'), ('bad', 'worst'), ('be', 'was'), ('know', 'knew'), ('know', 'knew'), ('be', 'was'), ('be', 'was'), ('have', 'had'), ('think', 'thought'), ('berry', 'berries'), ('growl', 'growled'), ('be', 'is'), ('get', 'gets'), ('be', 'was'), ('be', 'was'), ('have', 'having'), ('bad', 'worst'), ('see', 'seen'), ('bad', 'worst'), ('be', 'was'), ('neighbor', 'neighbors'), ('be', 'were'), ('be', 'is'), ('be', 'are'), ('be', 'is'), ('be', 'is'), ('be', 'is'), ('take', 'takes'), ('temper', 'tempered'), ('be', 'is'), ('arouse', 'aroused'), ('get', 'gets'), ('seem', 'seemed'), ('have', 'had'), ('have', 'had'), ('have', 'had'), ('have', 'had'), ('slip', 'slipped'), ('hold', 'held'), ('have', 'had'), ('hang', 'hanging'), ('be', 'was'), ('know', 'knew'), ('be', 'was'), ('hear', 'hearing'), ('be', 'was'), ('seem', 'seemed'), ('live', 'lives'), ('be', 'was'), ('sit', 'sitting'), ('hide', 'hiding'), ('laugh', 'laughing'), ('make', 'making'), ('be', 'was'), ('respect', 'respecting'), ('charge', 'charged'), ('hide', 'hiding'), ('rush', 'rushed'), ('roar', 'roared'), ('be', 'was'), ('fly', 'flew'), ('climb', 'climbed'), ('be', 'were'), ('run', 'ran'), ('hide', 'hid'), ('shake', 'shaking'), ('tremble', 'trembling'), ('take', 'takes'), ('be', 'was'), ('fly', 'flew'), ('climb', 'climbed'), ('vent', 'vented'), ('cuff', 'cuffed'), ('pull', 'pulled'), ('growl', 'growling'), ('claw', 'clawed'), ('break', 'broke'), ('be', 'was'), ('shake', 'shook'), ('jump', 'jumped'), ('send', 'sent'), ('clatter', 'clattering'), ('try', 'tried'), ('knock', 'knocking'), ('be', 'was'), ('pound', 'pounded'), ('guess', 'guessed'), ('have', 'had'), ('be', 'been'), ('do', 'did'), ('think', 'thought'), ('creep', 'crept'), ('know', 'known'), ('say', 'said'), ('get', 'got'), ('steal', 'stealing'), ('berry', 'berries'), ('say', 'said'), ('have', 'had'), ('be', 'was'), ('look', 'looking'), ('come', 'comes'), ('steal', 'stealing'), ('look', 'looked'), ('grin', 'grinned'), ('be', 'was'), ('eye', 'eyes'), ('say', 'said'), ('scream', 'screamed'), ('fly', 'flew'), ('be', 'are'), ('bad', 'worse'), ('be', 'is'), ('say', 'said'), ('find', 'found'), ('have', 'had'), ('steal', 'stolen'), ('berry', 'berries'), ('have', 'had'), ('work', 'worked'), ('have', 'had'), ('be', 'is'), ('learn', 'learning'), ('be', 'are'), ('good', 'better'), ('be', 'been'), ('have', 'had'), ('bush', 'bushes'), ('have', 'had'), ('hide', 'hidden'), ('berry', 'berries'), ('have', 'had'), ('be', 'been'), ('be', 'was'), ('cow', 'cows'), ('have', 'had'), ('be', 'been'), ('berry', 'berries'), ('have', 'had'), ('hurry', 'hurried'), ('be', 'was'), ('enter', 'entered'), ('berry', 'berries'), ('have', 'had'), ('yell', 'yelled'), ('have', 'had'), ('appear', 'appeared'), ('struggle', 'struggling'), ('have', 'had'), ('catch', 'caught'), ('have', 'had'), ('be', 'been'), ('frighten', 'frightened'), ('have', 'had'), ('see', 'seen'), ('be', 'was'), ('have', 'had'), ('begin', 'begun'), ('be', 'is'), ('say', 'said'), ('lose', 'lost'), ('berry', 'berries'), ('be', 'is'), ('be', 'is'), ('be', 'are'), ('bush', 'bushes'), ('get', 'got'), ('be', 'is'), ('bad', 'worse'), ('walk', 'walked'), ('have', 'had'), ('be', 'been'), ('remember', 'remembered'), ('run', 'ran'), ('have', 'had'), ('carry', 'carried'), ('hang', 'hanging'), ('whistle', 'whistled'), ('be', 'was'), ('realize', 'realized'), ('have', 'had'), ('berry', 'berries'), ('pick', 'picked'), ('bad', 'worse'), ('think', 'thought'), ('cry', 'cried'), ('have', 'has'), ('cheat', 'cheated'), ('promise', 'promised'), ('begin', 'began'), ('think', 'thought'), ('have', 'had'), ('look', 'looked'), ('be', 'is'), ('learn', 'learning'), ('be', 'been'), ('bad', 'worse'), ('be', 'been'), ('bad', 'worse'), ('try', 'tried'), ('berry', 'berries'), ('leave', 'left'), ('berry', 'berries'), ('tramp', 'tramped'), ('have', 'had'), ('leave', 'left'), ('sandwich', 'sandwiches'), ('start', 'started'), ('berry', 'berries'), ('sandwich', 'sandwiches'), ('think', 'thought'), ('be', 'are'), ('be', 'was'), ('exclaim', 'exclaimed'), ('have', 'had'), ('sandwich', 'sandwiches'), ('be', 'been'), ('be', 'were'), ('leave', 'left'), ('sandwich', 'sandwiches'), ('have', 'had'), ('find', 'found'), ('gobble', 'gobbled'), ('be', 'was'), ('rub', 'rubbed'), ('eye', 'eyes'), ('star', 'stared'), ('tree', 'trees'), ('think', 'thought'), ('sandwich', 'sandwiches'), ('hang', 'hanging'), ('have', 'had'), ('disappear', 'disappeared'), ('have', 'had'), ('be', 'been'), ('have', 'had'), ('take', 'taken'), ('gap', 'gaped'), ('grow', 'growing'), ('steal', 'stole'), ('be', 'was'), ('mutter', 'muttered'), ('be', 'was'), ('be', 'is'), ('berry', 'berries'), ('make', 'made'), ('start', 'started'), ('have', 'had'), ('happen', 'happened'), ('time', 'times'), ('trudge', 'trudged'), ('stop', 'stopped'), ('say', 'said'), ('think', 'thought'), ('be', 'was'), ('get', 'got'), ('be', 'is'), ('adventure', 'adventures'), ('insist', 'insists'), ('adventure', 'adventures'), ('be', 'is'), ('be', 'am'), ('go', 'going')]\n"
     ]
    }
   ],
   "source": [
    "# for 4.\n",
    "\n",
    "\n",
    "def pt_to_wn(pos):\n",
    "    \"\"\"\n",
    "    Takes a Penn Treebank tag and converts it to an\n",
    "    appropriate WordNet equivalent for lemmatization.\n",
    "\n",
    "    A list of Penn Treebank tags is available at:\n",
    "    https://www.ling.upenn.edu/courses/Fall_2003/ling001/penn_treebank_pos.html\n",
    "    \"\"\"\n",
    "\n",
    "    from nltk.corpus.reader.wordnet import NOUN, VERB, ADJ, ADV\n",
    "\n",
    "    pos = pos.lower()\n",
    "\n",
    "    if pos.startswith('jj'):\n",
    "        tag = ADJ\n",
    "    elif pos == 'md':\n",
    "        # Modal auxiliary verbs\n",
    "        tag = VERB\n",
    "    elif pos.startswith('rb'):\n",
    "        tag = ADV\n",
    "    elif pos.startswith('vb'):\n",
    "        tag = VERB\n",
    "    elif pos == 'wrb':\n",
    "        # Wh-adverb (how, however, whence, whenever...)\n",
    "        tag = ADV\n",
    "    else:\n",
    "        # default to VERB\n",
    "        # This is not strictly correct, but it is good\n",
    "        # enough for lemmatization.\n",
    "        tag = VERB\n",
    "\n",
    "    return tag\n",
    "  \n",
    "  \n",
    "def nltk_pos_tagger(tokens):\n",
    "    \"\"\"\n",
    "    Takes a list of tokens and returns a list of \n",
    "    tuples [(token, wordnet_tag), ..]\n",
    "    \"\"\"\n",
    "\n",
    "    # Tag tokens with part-of-speech:\n",
    "    tagged = nltk.pos_tag(tokens) \n",
    "\n",
    "    # Convert our Treebank-style tags to WordNet-style tags.\n",
    "    tagged = [(word, pt_to_wn(tag))\n",
    "                     for (word, tag) in tagged]\n",
    "    return tagged\n",
    "  \n",
    "  \n",
    "def lemmatizer(tokens):\n",
    "    tagged = nltk_pos_tagger(tokens)  \n",
    "    \n",
    "    #write code to lemmatize tokens using taggs from nltk_pos_tagger\n",
    "    lemm = WordNetLemmatizer()\n",
    "    \n",
    "#     print([lemm.lemmatize(word[0], pos=word[1]) for word in tagged])\n",
    "#     print(tagged)\n",
    "    print([(word1, word2) for word1, word2 in zip([lemm.lemmatize(word[0], pos=word[1]) for word in tagged], words)  if word1 != word2])\n",
    "    pass\n",
    "    \n",
    "lemmatizer(words)"
   ]
  }
 ],
 "metadata": {
  "colab": {
   "include_colab_link": true,
   "name": "lab-2-preprocessing.ipynb",
   "provenance": [],
   "version": "0.3.2"
  },
  "kernelspec": {
   "display_name": "Python 3",
   "language": "python",
   "name": "python3"
  },
  "language_info": {
   "codemirror_mode": {
    "name": "ipython",
    "version": 3
   },
   "file_extension": ".py",
   "mimetype": "text/x-python",
   "name": "python",
   "nbconvert_exporter": "python",
   "pygments_lexer": "ipython3",
   "version": "3.7.9"
  }
 },
 "nbformat": 4,
 "nbformat_minor": 1
}
