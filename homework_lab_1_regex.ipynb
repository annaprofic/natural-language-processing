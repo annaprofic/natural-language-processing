{
  "nbformat": 4,
  "nbformat_minor": 0,
  "metadata": {
    "colab": {
      "name": "homework of lab-1-regex.ipynb",
      "provenance": [],
      "collapsed_sections": []
    },
    "kernelspec": {
      "display_name": "Python 3",
      "language": "python",
      "name": "python3"
    },
    "language_info": {
      "codemirror_mode": {
        "name": "ipython",
        "version": 3
      },
      "file_extension": ".py",
      "mimetype": "text/x-python",
      "name": "python",
      "nbconvert_exporter": "python",
      "pygments_lexer": "ipython3",
      "version": "3.6.4"
    }
  },
  "cells": [
    {
      "cell_type": "markdown",
      "metadata": {
        "id": "ScUO69SyLhPs"
      },
      "source": [
        "# Lecture 1 - Regular expressions"
      ]
    },
    {
      "cell_type": "markdown",
      "metadata": {
        "id": "eDymVYaFLhPt"
      },
      "source": [
        "<img src=\"https://imgs.xkcd.com/comics/regular_expressions.png\">"
      ]
    },
    {
      "cell_type": "markdown",
      "metadata": {
        "id": "2FNmQvi8LhPv"
      },
      "source": [
        "Regex is a fantastic tool for processing data, especially for finding some patterns and extracting things like phone numbers.\n",
        "\n",
        "Syntax is shear magic, but.. if you are serious about data processing, you have to know your regex-jujitsu:"
      ]
    },
    {
      "cell_type": "markdown",
      "metadata": {
        "id": "OWRD0NiFLhPx"
      },
      "source": [
        "<img src=\"https://github.com/kmisztal/PLN/raw/master/lab-01-regex/davechild_regex.png\">"
      ]
    },
    {
      "cell_type": "code",
      "metadata": {
        "id": "OdXw2tmYUDFM"
      },
      "source": [
        "import re\n",
        "\n",
        "text = \"You only live once, but if you do it right, once is enough.\""
      ],
      "execution_count": null,
      "outputs": []
    },
    {
      "cell_type": "markdown",
      "metadata": {
        "id": "_ETiyc16guU_"
      },
      "source": [
        "## Recipe 1"
      ]
    },
    {
      "cell_type": "code",
      "metadata": {
        "id": "9DIZAaxtLhPy",
        "outputId": "5cce96d4-a05c-4c66-d609-b32745285175",
        "colab": {
          "base_uri": "https://localhost:8080/",
          "height": 34
        }
      },
      "source": [
        "match = re.search(r'on\\w+', text)\n",
        "\n",
        "print(match.group())"
      ],
      "execution_count": null,
      "outputs": [
        {
          "output_type": "stream",
          "text": [
            "only\n"
          ],
          "name": "stdout"
        }
      ]
    },
    {
      "cell_type": "markdown",
      "metadata": {
        "id": "gujj8_whgvGp"
      },
      "source": [
        "## Recipe 2"
      ]
    },
    {
      "cell_type": "code",
      "metadata": {
        "id": "HhMRSUeJam_X",
        "outputId": "ad48e8f2-4c5d-40bd-aa32-fe97f2b26c94",
        "colab": {
          "base_uri": "https://localhost:8080/",
          "height": 35
        }
      },
      "source": [
        "matches = re.findall(r'on\\w+', text)\n",
        "\n",
        "print(matches)"
      ],
      "execution_count": null,
      "outputs": [
        {
          "output_type": "stream",
          "text": [
            "['only', 'once', 'once']\n"
          ],
          "name": "stdout"
        }
      ]
    },
    {
      "cell_type": "markdown",
      "metadata": {
        "id": "qHwDlfywgv2z"
      },
      "source": [
        "## Recipe 3"
      ]
    },
    {
      "cell_type": "code",
      "metadata": {
        "id": "-InC-sFfLhP5",
        "outputId": "56e0b3e7-6897-44db-8b07-a7a111f916f8",
        "colab": {
          "base_uri": "https://localhost:8080/",
          "height": 119
        }
      },
      "source": [
        "for m in re.finditer(r'on\\w+', text):\n",
        "    print(m.group())\n",
        "    print('%02d-%02d: %s' % (m.start(), m.end(), m.group(0)))"
      ],
      "execution_count": null,
      "outputs": [
        {
          "output_type": "stream",
          "text": [
            "only\n",
            "04-08: only\n",
            "once\n",
            "14-18: once\n",
            "once\n",
            "44-48: once\n"
          ],
          "name": "stdout"
        }
      ]
    },
    {
      "cell_type": "markdown",
      "metadata": {
        "id": "LfUV4PMcb4aY"
      },
      "source": [
        "## Why r before string?\n",
        "\n",
        "If you do not use raw formatting of strings, some strings with backslashes will be converted by Python to a format which regex does not support"
      ]
    },
    {
      "cell_type": "code",
      "metadata": {
        "id": "oI3teX2icv9X",
        "outputId": "23babe42-c553-4965-ce47-019fef500311",
        "colab": {
          "base_uri": "https://localhost:8080/",
          "height": 71
        }
      },
      "source": [
        "str_1 = '\\b\\w+\\b'\n",
        "str_2 = r'\\b\\w+\\b'\n",
        "str_3 = '\\\\b\\\\w+\\\\b'\n",
        "\n",
        "print(re.findall(str_1, text))\n",
        "print(re.findall(str_2, text)) \n",
        "print(re.findall(str_3, text)) "
      ],
      "execution_count": null,
      "outputs": [
        {
          "output_type": "stream",
          "text": [
            "[]\n",
            "['You', 'only', 'live', 'once', 'but', 'if', 'you', 'do', 'it', 'right', 'once', 'is', 'enough']\n",
            "['You', 'only', 'live', 'once', 'but', 'if', 'you', 'do', 'it', 'right', 'once', 'is', 'enough']\n"
          ],
          "name": "stdout"
        }
      ]
    },
    {
      "cell_type": "markdown",
      "metadata": {
        "id": "v_YO60zQLhP-"
      },
      "source": [
        "# Exercise 1 \n",
        "\n",
        "Using regular expressions, write code that will read from the file, and print out the name and phone number of each individual in format **name: telephone**."
      ]
    },
    {
      "cell_type": "code",
      "metadata": {
        "id": "EFztz2TaLhP_"
      },
      "source": [
        "txt_file = \"\"\"Rose    416-333-4444    rose@someplace.com\n",
        "Martha  905-888-1234    martha@hotmail.com\n",
        "Donna   647-222-9876    donna@rogers.ca\n",
        "Amy 905-777-2222    amy@gmail.com\"\"\""
      ],
      "execution_count": null,
      "outputs": []
    },
    {
      "cell_type": "code",
      "metadata": {
        "id": "lLiipj34LhQD",
        "outputId": "e59f7a92-5a5d-47be-9441-dc35741f1c1e",
        "colab": {
          "base_uri": "https://localhost:8080/",
          "height": 35
        }
      },
      "source": [
        "print(txt_file.split(\"\\n\"))"
      ],
      "execution_count": null,
      "outputs": [
        {
          "output_type": "stream",
          "text": [
            "['Rose    416-333-4444    rose@someplace.com', 'Martha  905-888-1234    martha@hotmail.com', 'Donna   647-222-9876    donna@rogers.ca', 'Amy 905-777-2222    amy@gmail.com']\n"
          ],
          "name": "stdout"
        }
      ]
    },
    {
      "cell_type": "code",
      "metadata": {
        "id": "4R3D7vWEfRup",
        "outputId": "759ca800-5ced-4b01-9c3e-7bba6376834f",
        "colab": {
          "base_uri": "https://localhost:8080/",
          "height": 85
        }
      },
      "source": [
        "for m in txt_file.split(\"\\n\"):\n",
        "  print(re.findall(r'\\b[A-Z]\\w+\\b', m), re.findall(r'\\b[0-9][-0-9]*\\b', m))\n"
      ],
      "execution_count": null,
      "outputs": [
        {
          "output_type": "stream",
          "text": [
            "['Rose'] ['416-333-4444']\n",
            "['Martha'] ['905-888-1234']\n",
            "['Donna'] ['647-222-9876']\n",
            "['Amy'] ['905-777-2222']\n"
          ],
          "name": "stdout"
        }
      ]
    },
    {
      "cell_type": "markdown",
      "metadata": {
        "id": "mSOKz0lRLhQH"
      },
      "source": [
        "# Exercise 2\n",
        "\n",
        "Give a pattern to match the following:\n",
        "\n",
        "* Words that begin with an uppercase letter, followed by any number (including zero!) of lowercase letters.\n",
        "\n",
        "* Strings containing two words: \"I\" and a word that has at least one \"a\", \"i\" or \"e\" letter\n",
        "\n"
      ]
    },
    {
      "cell_type": "code",
      "metadata": {
        "id": "akjfJ9qEZwXR"
      },
      "source": [
        "text_2 = \"\"\"This tale grew in the telling, until it became a history of the Great War of\n",
        "the Ring and included many glimpses of the yet more ancient history that\n",
        "preceded it. It was begun soon after _The Hobbit_ was written and before its\n",
        "publication in 1937; but I did not go on with this sequel, for I wished first\n",
        "to complete and set in order the mythology and legends of the Elder Days,\n",
        "which had then been taking shape for some years. I desired to do this for my\n",
        "own satisfaction, and I had little hope that other people would be interested\n",
        "in this work, especially since it was primarily linguistic in inspiration and\n",
        "was begun in order to provide the necessary background of 'history' for Elvish\n",
        "tongues. When those whose advice and opinion I sought corrected _little hope_ to\n",
        "_no hope,_ I went back to the sequel, encouraged by requests from readers for\n",
        "more information concerning hobbits and their adventures. But the story was\n",
        "drawn irresistibly towards the older world, and became an account, as it were,\n",
        "of its end and passing away before its beginning and middle had been told. The\n",
        "process had begun in the writing of _The Hobbit,_ in which there were already\n",
        "some references to the older matter: Elrond, Gondolin, the High-elves, and the\n",
        "orcs, as well as glimpses that had arisen unbidden of things higher or deeper\n",
        "or darker than its surface: Durin, Moria, Gandalf, the Necromancer, the Ring.\n",
        "The discovery of the significance of these glimpses and of their relation to\n",
        "the ancient histories revealed the Third Age and its culmination in the War of\n",
        "the Ring.\"\"\".replace('\\n', ' ')"
      ],
      "execution_count": null,
      "outputs": []
    },
    {
      "cell_type": "code",
      "metadata": {
        "id": "wACLCUH1GMXp"
      },
      "source": [
        "pattern_1 = r'\\b[A-Z][a-z]*\\b'\n",
        "pattern_2 = r'I [A-Za-z]*[aie]+[A-Za-z]*'\n",
        "\n",
        "result_1 = re.findall(pattern_1, text_2)\n",
        "result_2 = re.findall(pattern_2, text_2)"
      ],
      "execution_count": null,
      "outputs": []
    },
    {
      "cell_type": "code",
      "metadata": {
        "id": "K-gkN4mfaEqL",
        "outputId": "48e0db82-e02a-4d4c-fcc3-ab1e8f5d6291",
        "colab": {
          "base_uri": "https://localhost:8080/",
          "height": 34
        }
      },
      "source": [
        "assert result_1 == ['This', 'Great', 'War', 'Ring', 'It', 'I', 'I', 'Elder',\n",
        "                    'Days', 'I', 'I', 'Elvish', 'When', 'I', 'I', 'But', 'The',\n",
        "                    'Hobbit', 'Elrond', 'Gondolin', 'High', 'Durin', 'Moria', \n",
        "                    'Gandalf', 'Necromancer', 'Ring', 'The', 'Third', 'Age',\n",
        "                    'War', 'Ring']\n",
        "\n",
        "assert result_2 == ['I did', 'I wished', 'I desired', 'I had', 'I went']\n",
        "print(\"Well done!\")"
      ],
      "execution_count": null,
      "outputs": [
        {
          "output_type": "stream",
          "text": [
            "Well done!\n"
          ],
          "name": "stdout"
        }
      ]
    },
    {
      "cell_type": "markdown",
      "metadata": {
        "id": "QVglNPNR6Fvs"
      },
      "source": [
        "# Exercise 3\n",
        "\n",
        "Write code that takes given text and use regex to:\n",
        "- find all words starting with letter \"a\" and return the longest one\n",
        "- find all words ending with \"ing\" with length smaller than 5\n",
        "- return the number of 6-letter words in the document\n",
        "- find all words starting with an uppercase letter, which is not \"A\" or \"B\""
      ]
    },
    {
      "cell_type": "code",
      "metadata": {
        "id": "p0NmvBRn6E9k"
      },
      "source": [
        "text_3 = \"\"\"King. He felt better at once,' said Gandalf. 'But there is only one Power in\n",
        "this world that knows all about the Rings and their effects; and as far as I\n",
        "know there is no Power in the world that knows all about hobbits. Among the\n",
        "Wise I am the only one that goes in for hobbit-lore: an obscure branch of\n",
        "knowledge, but full of surprises. Soft as butter they can be, and yet\n",
        "sometimes as tough as old tree-roots. I think it likely that some would resist\n",
        "the Rings far longer than most of the Wise would believe. I don't think you\n",
        "need worry about Bilbo.\n",
        " 'Of course, he possessed the ring for many years, and used it, so it\n",
        "might take a long while for the influence to wear off – before it was safe for\n",
        "him to see it again, for instance. Otherwise, he might live on for years,\n",
        "quite happily: just stop as he was when he parted with it. For he gave it up\n",
        "in the end of his own accord: an important point. No, I was not troubled about\n",
        "dear Bilbo any more, once he had let the thing go. It is for _you_ that I feel\n",
        "responsible.\n",
        " 'Ever since Bilbo left I have been deeply concerned about you, and about\n",
        "all these charming, absurd, helpless hobbits. It would be a grievous blow to\n",
        "the world, if the Dark Power overcame the Shire; if all your kind, jolly,\n",
        "stupid Bolgers, Hornblowers, Boffins, Bracegirdles, and the rest, not to\n",
        "mention the ridiculous Bagginses, became enslaved.'\n",
        " Frodo shuddered. 'But why should we be?' he asked. 'And why should he\n",
        "want such slaves?'\n",
        " 'To tell you the truth,' replied Gandalf, 'I believe that hitherto –\n",
        "_hitherto,_mark you – he has entirely overlooked the existence of hobbits. You\n",
        "should be thankful. But your safety has passed. He does not need you – he has\n",
        "many more useful servants – but he won't forget you again. And hobbits as\n",
        "miserable slaves would please him far more than hobbits happy and free. There\n",
        "is such a thing as malice and revenge.'\n",
        " 'Revenge?' said Frodo. 'Revenge for what? I still don't understand what\n",
        "all this has to do with Bilbo and myself, and our ring.'\n",
        " 'It has everything to do with it,' said Gandalf. 'You do not know the\n",
        "real peril yet; but you shall. I was not sure of it myself when I was last\n",
        "here; but the time has come to speak. Give me the ring for a moment.\n",
        "\"\"\".replace('\\n', ' ')"
      ],
      "execution_count": null,
      "outputs": []
    },
    {
      "cell_type": "code",
      "metadata": {
        "id": "0ZwHyhvH9jfM"
      },
      "source": [
        "pattern_1 = r'\\ba\\w+\\b'\n",
        "pattern_2 = r'\\b[A-Za-z]{0,1}ing\\b'\n",
        "pattern_3 = r'\\b[A-Za-z]{6}\\b'\n",
        "pattern_4 = r'\\b[C-Z]\\w*\\b'\n",
        "\n",
        "result_1 = re.findall(pattern_1, text_3)\n",
        "result_2 = re.findall(pattern_2, text_3)\n",
        "result_3 = re.findall(pattern_3, text_3)\n",
        "result_4 = re.findall(pattern_4, text_3)"
      ],
      "execution_count": null,
      "outputs": []
    },
    {
      "cell_type": "code",
      "metadata": {
        "id": "PhPYlpeu-iIu",
        "outputId": "cef0c575-5050-4f00-f78f-97f8aa5ea14b",
        "colab": {
          "base_uri": "https://localhost:8080/",
          "height": 34
        }
      },
      "source": [
        "assert max(result_1, key=len) == 'accord'\n",
        "assert result_2 == ['King', 'ring', 'ring', 'ring']\n",
        "assert len(result_3) == 29\n",
        "assert len(result_4) == 45\n",
        "print(\"Well done!\")"
      ],
      "execution_count": null,
      "outputs": [
        {
          "output_type": "stream",
          "text": [
            "Well done!\n"
          ],
          "name": "stdout"
        }
      ]
    },
    {
      "cell_type": "code",
      "metadata": {
        "id": "C5yVCnGzSAmI"
      },
      "source": [
        ""
      ],
      "execution_count": null,
      "outputs": []
    }
  ]
}