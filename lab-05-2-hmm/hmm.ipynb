{
 "cells": [
  {
   "cell_type": "markdown",
   "metadata": {},
   "source": [
    "## HMM with python"
   ]
  },
  {
   "cell_type": "markdown",
   "metadata": {},
   "source": [
    "Follow this tutorial:\n",
    "https://towardsdatascience.com/introduction-to-hidden-markov-models-cd2c93e6b781"
   ]
  },
  {
   "cell_type": "markdown",
   "metadata": {},
   "source": [
    "Additional stuff:\n",
    "- https://medium.com/@jonathan_hui/machine-learning-hidden-markov-model-hmm-31660d217a61\n",
    "- https://medium.com/@kangeugine/hidden-markov-model-7681c22f5b9\n",
    "- https://medium.com/@postsanjay/hidden-markov-models-simplified-c3f58728caab"
   ]
  },
  {
   "cell_type": "markdown",
   "metadata": {},
   "source": [
    "## Exercise 1\n",
    "\n",
    "Solve the exercises form previous meeting"
   ]
  },
  {
   "cell_type": "markdown",
   "metadata": {},
   "source": [
    "## Context-less tagging"
   ]
  },
  {
   "cell_type": "code",
   "execution_count": 1,
   "metadata": {},
   "outputs": [],
   "source": [
    "import nltk"
   ]
  },
  {
   "cell_type": "code",
   "execution_count": 2,
   "metadata": {},
   "outputs": [],
   "source": [
    "tokens = nltk.word_tokenize(\"Can I hel you?\")"
   ]
  },
  {
   "cell_type": "code",
   "execution_count": 3,
   "metadata": {},
   "outputs": [
    {
     "name": "stdout",
     "output_type": "stream",
     "text": [
      "Tokens: ['Can', 'I', 'hel', 'you', '?']\n"
     ]
    }
   ],
   "source": [
    "print(\"Tokens:\", tokens)"
   ]
  },
  {
   "cell_type": "code",
   "execution_count": 14,
   "metadata": {},
   "outputs": [
    {
     "name": "stdout",
     "output_type": "stream",
     "text": [
      "Parts of speech: [('Can', 'MD'), ('I', 'PRP'), ('hel', 'VB'), ('you', 'PRP'), ('?', '.')]\n"
     ]
    }
   ],
   "source": [
    "print(\"Parts of speech:\", nltk.pos_tag(tokens))"
   ]
  },
  {
   "cell_type": "raw",
   "metadata": {},
   "source": [
    "Oznaczenia:\n",
    "\n",
    "CC coordinating conjunction\n",
    "CD cardinal digit\n",
    "DT determiner\n",
    "EX existential there (like: “there is” … think of it like “there exists”)\n",
    "FW foreign word\n",
    "IN preposition/subordinating conjunction\n",
    "JJ adjective ‘big’\n",
    "JJR adjective, comparative ‘bigger’\n",
    "JJS adjective, superlative ‘biggest’\n",
    "LS list marker 1)\n",
    "MD modal could, will\n",
    "NN noun, singular ‘desk’\n",
    "NNS noun plural ‘desks’\n",
    "NNP proper noun, singular ‘Harrison’\n",
    "NNPS proper noun, plural ‘Americans’\n",
    "PDT predeterminer ‘all the kids’\n",
    "POS possessive ending parent’s\n",
    "PRP personal pronoun I, he, she\n",
    "PRP$ possessive pronoun my, his, hers\n",
    "RB adverb very, silently,\n",
    "RBR adverb, comparative better\n",
    "RBS adverb, superlative best\n",
    "RP particle give up\n",
    "TO, to go ‘to’ the store.\n",
    "UH interjection, errrrrrrrm\n",
    "VB verb, base form take\n",
    "VBD verb, past tense took\n",
    "VBG verb, gerund/present participle taking\n",
    "VBN verb, past participle taken\n",
    "VBP verb, sing. present, non-3d take\n",
    "VBZ verb, 3rd person sing. present takes\n",
    "WDT wh-determiner which\n",
    "WP wh-pronoun who, what\n",
    "WP$ possessive wh-pronoun whose\n",
    "WRB wh-abverb where, when"
   ]
  },
  {
   "cell_type": "markdown",
   "metadata": {},
   "source": [
    "## Corpus"
   ]
  },
  {
   "cell_type": "code",
   "execution_count": 15,
   "metadata": {},
   "outputs": [
    {
     "data": {
      "text/plain": [
       "'\\n\\n\\tThe/at Fulton/np-tl County/nn-tl Grand/jj-tl Jury/nn-tl said/vbd Friday/nr an/at investigation/nn'"
      ]
     },
     "execution_count": 15,
     "metadata": {},
     "output_type": "execute_result"
    }
   ],
   "source": [
    "# More: https://www.nltk.org/book/ch02.html\n",
    "from nltk.corpus import brown\n",
    "#nltk.download('brown')\n",
    "brown.raw()[:100]"
   ]
  },
  {
   "cell_type": "code",
   "execution_count": 16,
   "metadata": {},
   "outputs": [
    {
     "data": {
      "text/plain": [
       "['adventure',\n",
       " 'belles_lettres',\n",
       " 'editorial',\n",
       " 'fiction',\n",
       " 'government',\n",
       " 'hobbies',\n",
       " 'humor',\n",
       " 'learned',\n",
       " 'lore',\n",
       " 'mystery',\n",
       " 'news',\n",
       " 'religion',\n",
       " 'reviews',\n",
       " 'romance',\n",
       " 'science_fiction']"
      ]
     },
     "execution_count": 16,
     "metadata": {},
     "output_type": "execute_result"
    }
   ],
   "source": [
    "brown.categories()"
   ]
  },
  {
   "cell_type": "code",
   "execution_count": 6,
   "metadata": {},
   "outputs": [],
   "source": [
    "news_text = brown.words(categories='news')"
   ]
  },
  {
   "cell_type": "code",
   "execution_count": 7,
   "metadata": {},
   "outputs": [
    {
     "data": {
      "text/plain": [
       "100554"
      ]
     },
     "execution_count": 7,
     "metadata": {},
     "output_type": "execute_result"
    }
   ],
   "source": [
    "len(news_text)"
   ]
  },
  {
   "cell_type": "markdown",
   "metadata": {},
   "source": [
    "brown.fileids()"
   ]
  },
  {
   "cell_type": "code",
   "execution_count": 9,
   "metadata": {},
   "outputs": [
    {
     "name": "stdout",
     "output_type": "stream",
     "text": [
      "The Fulton County Grand Jury said Friday an investigation of Atlanta's recent primary election produced `` no evidence '' that any irregularities took place . \n",
      "The jury further said in term-end presentments that the City Executive Committee , which had over-all charge of the election , `` deserves the praise and thanks of the City of Atlanta '' for the manner in which the election was conducted . \n",
      "The September-October term jury had been charged by Fulton Superior Court Judge Durwood Pye to investigate reports of possible `` irregularities '' in the hard-fought primary which was won by Mayor-nominate Ivan Allen Jr. . \n",
      "`` Only a relative handful of such reports was received '' , the jury said , `` considering the widespread interest in the election , the number of voters and the size of this city '' . \n",
      "The jury said it did find that many of Georgia's registration and election laws `` are outmoded or inadequate and often ambiguous '' . \n",
      "It recommended that Fulton legislators act `` to have these laws studied and revised to the end of modernizing and improving them '' . \n",
      "The grand jury commented on a number of other topics , among them the Atlanta and Fulton County purchasing departments which it said `` are well operated and follow generally accepted practices which inure to the best interest of both governments '' . \n",
      "Merger proposed However , the jury said it believes `` these two offices should be combined to achieve greater efficiency and reduce the cost of administration '' . \n",
      "The City Purchasing Department , the jury said , `` is lacking in experienced clerical personnel as a result of city personnel policies '' . \n",
      "It urged that the city `` take steps to remedy '' this problem . \n",
      "Implementation of Georgia's automobile title law was also recommended by the outgoing jury . \n",
      "It urged that the next Legislature `` provide enabling funds and re-set the effective date so that an orderly implementation of the law may be effected '' . \n",
      "The grand jury took a swipe at the State Welfare Department's handling of federal funds granted for child welfare services in foster homes . \n",
      "`` This is one of the major items in the Fulton County general assistance program '' , the jury said , but the State Welfare Department `` has seen fit to distribute these funds through the welfare departments of all the counties in the state with the exception of Fulton County , which receives none of this money . \n",
      "The jurors said they realize `` a proportionate distribution of these funds might disable this program in our less populous counties '' . \n",
      "Nevertheless , `` we feel that in the future Fulton County should receive some portion of these available funds '' , the jurors said . \n",
      "`` Failure to do this will continue to place a disproportionate burden '' on Fulton taxpayers . \n",
      "The jury also commented on the Fulton ordinary's court which has been under fire for its practices in the appointment of appraisers , guardians and administrators and the awarding of fees and compensation . \n",
      "Wards protected The jury said it found the court `` has incorporated into its operating procedures the recommendations '' of two previous grand juries , the Atlanta Bar Association and an interim citizens committee . \n",
      "`` These actions should serve to protect in fact and in effect the court's wards from undue costs and its appointed and elected servants from unmeritorious criticisms '' , the jury said . \n",
      "Regarding Atlanta's new multi-million-dollar airport , the jury recommended `` that when the new management takes charge Jan. 1 the airport be operated in a manner that will eliminate political influences '' . \n",
      "The jury did not elaborate , but it added that `` there should be periodic surveillance of the pricing practices of the concessionaires for the purpose of keeping the prices reasonable '' . \n",
      "Ask jail deputies On other matters , the jury recommended that : ( 1 ) Four additional deputies be employed at the Fulton County Jail and `` a doctor , medical intern or extern be employed for night and weekend duty at the jail '' . \n",
      "( 2 ) Fulton legislators `` work with city officials to pass enabling legislation that will permit the establishment of a fair and equitable '' pension plan for city employes . \n",
      "The jury praised the administration and operation of the Atlanta Police Department , the Fulton Tax Commissioner's Office , the Bellwood and Alpharetta prison farms , Grady Hospital and the Fulton Health Department . \n",
      "Mayor William B. Hartsfield filed suit for divorce from his wife , Pearl Williams Hartsfield , in Fulton Superior Court Friday . \n",
      "His petition charged mental cruelty . \n",
      "The couple was married Aug. 2 , 1913 . \n",
      "They have a son , William Berry Jr. , and a daughter , Mrs. J. M. Cheshire of Griffin . \n",
      "Attorneys for the mayor said that an amicable property settlement has been agreed upon . \n",
      "The petition listed the mayor's occupation as `` attorney '' and his age as 71 . \n",
      "It listed his wife's age as 74 and place of birth as Opelika , Ala. . \n",
      "The petition said that the couple has not lived together as man and wife for more than a year . \n",
      "The Hartsfield home is at 637 E. Pelham Rd. Aj . \n",
      "Henry L. Bowden was listed on the petition as the mayor's attorney . \n",
      "Hartsfield has been mayor of Atlanta , with exception of one brief interlude , since 1937 . \n",
      "His political career goes back to his election to city council in 1923 . \n",
      "The mayor's present term of office expires Jan. 1 . \n",
      "He will be succeeded by Ivan Allen Jr. , who became a candidate in the Sept. 13 primary after Mayor Hartsfield announced that he would not run for reelection . \n",
      "Georgia Republicans are getting strong encouragement to enter a candidate in the 1962 governor's race , a top official said Wednesday . \n",
      "Robert Snodgrass , state GOP chairman , said a meeting held Tuesday night in Blue Ridge brought enthusiastic responses from the audience . \n",
      "State Party Chairman James W. Dorsey added that enthusiasm was picking up for a state rally to be held Sept. 8 in Savannah at which newly elected Texas Sen. John Tower will be the featured speaker . \n",
      "In the Blue Ridge meeting , the audience was warned that entering a candidate for governor would force it to take petitions out into voting precincts to obtain the signatures of registered voters . \n",
      "Despite the warning , there was a unanimous vote to enter a candidate , according to Republicans who attended . \n",
      "When the crowd was asked whether it wanted to wait one more term to make the race , it voted no -- and there were no dissents . \n",
      "The largest hurdle the Republicans would have to face is a state law which says that before making a first race , one of two alternative courses must be taken : 1 Five per cent of the voters in each county must sign petitions requesting that the Republicans be allowed to place names of candidates on the general election ballot , or 2 The Republicans must hold a primary under the county unit system -- a system which the party opposes in its platform . \n",
      "Sam Caldwell , State Highway Department public relations director , resigned Tuesday to work for Lt. Gov. Garland Byrd's campaign . \n",
      "Caldwell's resignation had been expected for some time . \n",
      "He will be succeeded by Rob Ledford of Gainesville , who has been an assistant more than three years . \n",
      "When the gubernatorial campaign starts , Caldwell is expected to become a campaign coordinator for Byrd . \n",
      "The Georgia Legislature will wind up its 1961 session Monday and head for home -- where some of the highway bond money it approved will follow shortly . \n",
      "Before adjournment Monday afternoon , the Senate is expected to approve a study of the number of legislators allotted to rural and urban areas to determine what adjustments should be made . \n",
      "Gov. Vandiver is expected to make the traditional visit to both chambers as they work toward adjournment . \n",
      "Vandiver likely will mention the $100 million highway bond issue approved earlier in the session as his first priority item . \n",
      "Construction bonds Meanwhile , it was learned the State Highway Department is very near being ready to issue the first $30 million worth of highway reconstruction bonds . \n",
      "The bond issue will go to the state courts for a friendly test suit to test the validity of the act , and then the sales will begin and contracts let for repair work on some of Georgia's most heavily traveled highways . \n",
      "A Highway Department source said there also is a plan there to issue some $3 million to $4 million worth of Rural Roads Authority bonds for rural road construction work . \n",
      "A revolving fund The department apparently intends to make the Rural Roads Authority a revolving fund under which new bonds would be issued every time a portion of the old ones are paid off by tax authorities . \n",
      "Vandiver opened his race for governor in 1958 with a battle in the Legislature against the issuance of $50 million worth of additional rural roads bonds proposed by then Gov. Marvin Griffin . \n",
      "The Highway Department source told The Constitution , however , that Vandiver has not been consulted yet about the plans to issue the new rural roads bonds . \n"
     ]
    },
    {
     "name": "stdout",
     "output_type": "stream",
     "text": [
      "Schley County Rep. B. D. Pelham will offer a resolution Monday in the House to rescind the body's action of Friday in voting itself a $10 per day increase in expense allowances . \n",
      "Pelham said Sunday night there was research being done on whether the `` quickie '' vote on the increase can be repealed outright or whether notice would have to first be given that reconsideration of the action would be sought . \n",
      "While emphasizing that technical details were not fully worked out , Pelham said his resolution would seek to set aside the privilege resolution which the House voted through 87-31 . \n",
      "A similar resolution passed in the Senate by a vote of 29-5 . \n",
      "As of Sunday night , there was no word of a resolution being offered there to rescind the action . \n",
      "Pelham pointed out that Georgia voters last November rejected a constitutional amendment to allow legislators to vote on pay raises for future Legislature sessions . \n",
      "A veteran Jackson County legislator will ask the Georgia House Monday to back federal aid to education , something it has consistently opposed in the past . \n",
      "Rep. Mac Barber of Commerce is asking the House in a privilege resolution to `` endorse increased federal support for public education , provided that such funds be received and expended '' as state funds . \n",
      "Barber , who is in his 13th year as a legislator , said there `` are some members of our congressional delegation in Washington who would like to see it ( the resolution ) passed '' . \n",
      "But he added that none of Georgia's congressmen specifically asked him to offer the resolution . \n",
      "The resolution , which Barber tossed into the House hopper Friday , will be formally read Monday . \n",
      "It says that `` in the event Congress does provide this increase in federal funds '' , the State Board of Education should be directed to `` give priority '' to teacher pay raises . \n",
      "Colquitt -- After a long , hot controversy , Miller County has a new school superintendent , elected , as a policeman put it , in the `` coolest election I ever saw in this county '' . \n",
      "The new school superintendent is Harry Davis , a veteran agriculture teacher , who defeated Felix Bush , a school principal and chairman of the Miller County Democratic Executive Committee . \n",
      "Davis received 1,119 votes in Saturday's election , and Bush got 402 . \n",
      "Ordinary Carey Williams , armed with a pistol , stood by at the polls to insure order . \n",
      "`` This was the coolest , calmest election I ever saw '' , Colquitt Policeman Tom Williams said . \n",
      "`` Being at the polls was just like being at church . \n",
      "I didn't smell a drop of liquor , and we didn't have a bit of trouble '' . \n",
      "The campaign leading to the election was not so quiet , however . \n",
      "It was marked by controversy , anonymous midnight phone calls and veiled threats of violence . \n",
      "The former county school superintendent , George P. Callan , shot himself to death March 18 , four days after he resigned his post in a dispute with the county school board . \n",
      "During the election campaign , both candidates , Davis and Bush , reportedly received anonymous telephone calls . \n",
      "Ordinary Williams said he , too , was subjected to anonymous calls soon after he scheduled the election . \n",
      "Many local citizens feared that there would be irregularities at the polls , and Williams got himself a permit to carry a gun and promised an orderly election . \n",
      "Sheriff Felix Tabb said the ordinary apparently made good his promise . \n",
      "`` Everything went real smooth '' , the sheriff said . \n",
      "`` There wasn't a bit of trouble '' . \n"
     ]
    }
   ],
   "source": [
    "for w in brown.words(fileids=['ca01']):\n",
    "    print(w, end=' ')\n",
    "    if w == '.':\n",
    "        print()"
   ]
  },
  {
   "cell_type": "code",
   "execution_count": 10,
   "metadata": {},
   "outputs": [],
   "source": [
    "news_text_tagged = brown.tagged_words(categories='news')"
   ]
  },
  {
   "cell_type": "code",
   "execution_count": 11,
   "metadata": {},
   "outputs": [
    {
     "data": {
      "text/plain": [
       "[('The', 'AT'), ('Fulton', 'NP-TL'), ...]"
      ]
     },
     "execution_count": 11,
     "metadata": {},
     "output_type": "execute_result"
    }
   ],
   "source": [
    "news_text_tagged"
   ]
  },
  {
   "cell_type": "markdown",
   "metadata": {},
   "source": [
    "# Exercise 2"
   ]
  },
  {
   "cell_type": "markdown",
   "metadata": {},
   "source": [
    "Use HMM to generate context tagging"
   ]
  },
  {
   "cell_type": "code",
   "execution_count": null,
   "metadata": {},
   "outputs": [],
   "source": []
  }
 ],
 "metadata": {
  "kernelspec": {
   "display_name": "Python 3",
   "language": "python",
   "name": "python3"
  },
  "language_info": {
   "codemirror_mode": {
    "name": "ipython",
    "version": 3
   },
   "file_extension": ".py",
   "mimetype": "text/x-python",
   "name": "python",
   "nbconvert_exporter": "python",
   "pygments_lexer": "ipython3",
   "version": "3.6.4"
  }
 },
 "nbformat": 4,
 "nbformat_minor": 2
}
