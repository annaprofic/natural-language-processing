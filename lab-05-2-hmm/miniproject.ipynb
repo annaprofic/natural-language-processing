{
 "cells": [
  {
   "cell_type": "markdown",
   "metadata": {},
   "source": [
    "# Miniprojekt"
   ]
  },
  {
   "cell_type": "markdown",
   "metadata": {},
   "source": [
    "(10 punktów)"
   ]
  },
  {
   "cell_type": "markdown",
   "metadata": {},
   "source": [
    "Wykorzystując materiały z `lab-10-1-hmm` wykonaj następujące zadania."
   ]
  },
  {
   "cell_type": "markdown",
   "metadata": {},
   "source": [
    "Tekst na którym pracujesz to:"
   ]
  },
  {
   "cell_type": "code",
   "execution_count": 1,
   "metadata": {},
   "outputs": [
    {
     "name": "stdout",
     "output_type": "stream",
     "text": [
      "The Zen of Python, by Tim Peters\n",
      "\n",
      "Beautiful is better than ugly.\n",
      "Explicit is better than implicit.\n",
      "Simple is better than complex.\n",
      "Complex is better than complicated.\n",
      "Flat is better than nested.\n",
      "Sparse is better than dense.\n",
      "Readability counts.\n",
      "Special cases aren't special enough to break the rules.\n",
      "Although practicality beats purity.\n",
      "Errors should never pass silently.\n",
      "Unless explicitly silenced.\n",
      "In the face of ambiguity, refuse the temptation to guess.\n",
      "There should be one-- and preferably only one --obvious way to do it.\n",
      "Although that way may not be obvious at first unless you're Dutch.\n",
      "Now is better than never.\n",
      "Although never is often better than *right* now.\n",
      "If the implementation is hard to explain, it's a bad idea.\n",
      "If the implementation is easy to explain, it may be a good idea.\n",
      "Namespaces are one honking great idea -- let's do more of those!\n"
     ]
    }
   ],
   "source": [
    "import this"
   ]
  },
  {
   "cell_type": "markdown",
   "metadata": {},
   "source": [
    "## Zadanie 1"
   ]
  },
  {
   "cell_type": "markdown",
   "metadata": {},
   "source": [
    "Dla wszystkich katerogii korpusu `brown` z biblioteki `nltk`"
   ]
  },
  {
   "cell_type": "code",
   "execution_count": 2,
   "metadata": {},
   "outputs": [
    {
     "data": {
      "text/plain": [
       "['adventure',\n",
       " 'belles_lettres',\n",
       " 'editorial',\n",
       " 'fiction',\n",
       " 'government',\n",
       " 'hobbies',\n",
       " 'humor',\n",
       " 'learned',\n",
       " 'lore',\n",
       " 'mystery',\n",
       " 'news',\n",
       " 'religion',\n",
       " 'reviews',\n",
       " 'romance',\n",
       " 'science_fiction']"
      ]
     },
     "execution_count": 2,
     "metadata": {},
     "output_type": "execute_result"
    }
   ],
   "source": [
    "# More: https://www.nltk.org/book/ch02.html\n",
    "from nltk.corpus import brown\n",
    "\n",
    "brown.categories()"
   ]
  },
  {
   "cell_type": "markdown",
   "metadata": {},
   "source": [
    "zbuduj niezależne modele HMM. "
   ]
  },
  {
   "cell_type": "markdown",
   "metadata": {},
   "source": [
    "Dla każdego z nich dokonaj tagowania rozważanego tekstu."
   ]
  },
  {
   "cell_type": "markdown",
   "metadata": {},
   "source": [
    "## Zadanie 2"
   ]
  },
  {
   "cell_type": "markdown",
   "metadata": {},
   "source": [
    "W tworzeniu prawdopodobieństw w macierzy przejścia zastosuj wygładzanie, tj.\n",
    "\n",
    "\\begin{equation}\\large\n",
    "P(w_{i}|w_{i-1}) = \\lambda P_{ML}(w_{i}|w_{i-1}) + (1-\\lambda)P_{ML}(w_{i}),\\qquad \\lambda \\in [0,1]\n",
    "\\end{equation}\n",
    "\n",
    "gdzie \n",
    "\n",
    "- $P(w_{i}|w_{i-1})$ - prawdopodobieństwo przejścia z tagu $i-1$ do tagu $i$ \n",
    "- $P_{ML}(w_{i}|w_{i-1})$ - estymator z korpusu \n",
    "- $P_{ML}(w_{i})$ - estymator z korpusu"
   ]
  },
  {
   "cell_type": "markdown",
   "metadata": {},
   "source": [
    "Pytanie otwarte:\n",
    "\n",
    "- sprawdź czy tagowanie dla każdego HMM z poprzedniego zadania jest takie samo,\n",
    "- jeśli:\n",
    "    - tak, to w twoim rozwiązaniu jest jakiś błąd\n",
    "    - nie, sprawdź jak wygląda tagowanie dla  $\\lambda \\in \\{0.9;0.5;0.1\\}$"
   ]
  },
  {
   "cell_type": "markdown",
   "metadata": {},
   "source": [
    "## Uwagi:\n",
    "\n",
    "- treść może ulec zmianie - proszę sprawdzić ją przed wysłaniem zadania na Universality\n",
    "- rozwiązania należy przesłać do 2019-12-08 23:59:59 "
   ]
  },
  {
   "cell_type": "markdown",
   "metadata": {},
   "source": [
    "## Uwaga do rozwiązania\n",
    "\n",
    "**Problem** Macierz emisji generowana jest na podstawie danych z taggera z `nltk` - czy jest ona poprawna?"
   ]
  },
  {
   "cell_type": "markdown",
   "metadata": {},
   "source": [
    "Możesz skorzystać z https://ws.clarin-pl.eu/toolsEn.shtml do wygenreowania tagów dla wszystkich tekstów z korpusu `brown`. Następnie zduduj poprawną macierz emisji, którą wykorzystasz w zadaniu. \n",
    "Podpowiedź: wykorzystaj API http://nlp.pwr.wroc.pl/redmine/projects/nlprest2/wiki"
   ]
  }
 ],
 "metadata": {
  "kernelspec": {
   "display_name": "Python 3",
   "language": "python",
   "name": "python3"
  },
  "language_info": {
   "codemirror_mode": {
    "name": "ipython",
    "version": 3
   },
   "file_extension": ".py",
   "mimetype": "text/x-python",
   "name": "python",
   "nbconvert_exporter": "python",
   "pygments_lexer": "ipython3",
   "version": "3.6.4"
  }
 },
 "nbformat": 4,
 "nbformat_minor": 2
}
